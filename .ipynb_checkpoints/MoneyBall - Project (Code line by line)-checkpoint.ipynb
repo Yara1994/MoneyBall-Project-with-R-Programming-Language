{
 "cells": [
  {
   "cell_type": "code",
   "execution_count": 18,
   "metadata": {},
   "outputs": [],
   "source": [
    "# Import libraries\n",
    "\n",
    "library(dplyr)\n",
    "library(ggplot2)\n",
    "library(ggthemes)\n",
    "library(plotly)\n",
    "\n",
    "theme_set(theme_dark())"
   ]
  },
  {
   "cell_type": "code",
   "execution_count": 2,
   "metadata": {},
   "outputs": [
    {
     "data": {
      "text/html": [
       "<table class=\"dataframe\">\n",
       "<caption>A data.frame: 6 × 24</caption>\n",
       "<thead>\n",
       "\t<tr><th></th><th scope=col>playerID</th><th scope=col>yearID</th><th scope=col>stint</th><th scope=col>teamID</th><th scope=col>lgID</th><th scope=col>G</th><th scope=col>G_batting</th><th scope=col>AB</th><th scope=col>R</th><th scope=col>H</th><th scope=col>...</th><th scope=col>SB</th><th scope=col>CS</th><th scope=col>BB</th><th scope=col>SO</th><th scope=col>IBB</th><th scope=col>HBP</th><th scope=col>SH</th><th scope=col>SF</th><th scope=col>GIDP</th><th scope=col>G_old</th></tr>\n",
       "\t<tr><th></th><th scope=col>&lt;chr&gt;</th><th scope=col>&lt;int&gt;</th><th scope=col>&lt;int&gt;</th><th scope=col>&lt;chr&gt;</th><th scope=col>&lt;chr&gt;</th><th scope=col>&lt;int&gt;</th><th scope=col>&lt;int&gt;</th><th scope=col>&lt;int&gt;</th><th scope=col>&lt;int&gt;</th><th scope=col>&lt;int&gt;</th><th scope=col>...</th><th scope=col>&lt;int&gt;</th><th scope=col>&lt;int&gt;</th><th scope=col>&lt;int&gt;</th><th scope=col>&lt;int&gt;</th><th scope=col>&lt;int&gt;</th><th scope=col>&lt;int&gt;</th><th scope=col>&lt;int&gt;</th><th scope=col>&lt;int&gt;</th><th scope=col>&lt;int&gt;</th><th scope=col>&lt;int&gt;</th></tr>\n",
       "</thead>\n",
       "<tbody>\n",
       "\t<tr><th scope=row>1</th><td>aardsda01</td><td>2004</td><td>1</td><td>SFN</td><td>NL</td><td>11</td><td>11</td><td>0</td><td>0</td><td>0</td><td>...</td><td>0</td><td>0</td><td>0</td><td>0</td><td>0</td><td>0</td><td>0</td><td>0</td><td>0</td><td>11</td></tr>\n",
       "\t<tr><th scope=row>2</th><td>aardsda01</td><td>2006</td><td>1</td><td>CHN</td><td>NL</td><td>45</td><td>43</td><td>2</td><td>0</td><td>0</td><td>...</td><td>0</td><td>0</td><td>0</td><td>0</td><td>0</td><td>0</td><td>1</td><td>0</td><td>0</td><td>45</td></tr>\n",
       "\t<tr><th scope=row>3</th><td>aardsda01</td><td>2007</td><td>1</td><td>CHA</td><td>AL</td><td>25</td><td> 2</td><td>0</td><td>0</td><td>0</td><td>...</td><td>0</td><td>0</td><td>0</td><td>0</td><td>0</td><td>0</td><td>0</td><td>0</td><td>0</td><td> 2</td></tr>\n",
       "\t<tr><th scope=row>4</th><td>aardsda01</td><td>2008</td><td>1</td><td>BOS</td><td>AL</td><td>47</td><td> 5</td><td>1</td><td>0</td><td>0</td><td>...</td><td>0</td><td>0</td><td>0</td><td>1</td><td>0</td><td>0</td><td>0</td><td>0</td><td>0</td><td> 5</td></tr>\n",
       "\t<tr><th scope=row>5</th><td>aardsda01</td><td>2009</td><td>1</td><td>SEA</td><td>AL</td><td>73</td><td> 3</td><td>0</td><td>0</td><td>0</td><td>...</td><td>0</td><td>0</td><td>0</td><td>0</td><td>0</td><td>0</td><td>0</td><td>0</td><td>0</td><td>NA</td></tr>\n",
       "\t<tr><th scope=row>6</th><td>aardsda01</td><td>2010</td><td>1</td><td>SEA</td><td>AL</td><td>53</td><td> 4</td><td>0</td><td>0</td><td>0</td><td>...</td><td>0</td><td>0</td><td>0</td><td>0</td><td>0</td><td>0</td><td>0</td><td>0</td><td>0</td><td>NA</td></tr>\n",
       "</tbody>\n",
       "</table>\n"
      ],
      "text/latex": [
       "A data.frame: 6 × 24\n",
       "\\begin{tabular}{r|lllllllllllllllllllll}\n",
       "  & playerID & yearID & stint & teamID & lgID & G & G\\_batting & AB & R & H & ... & SB & CS & BB & SO & IBB & HBP & SH & SF & GIDP & G\\_old\\\\\n",
       "  & <chr> & <int> & <int> & <chr> & <chr> & <int> & <int> & <int> & <int> & <int> & ... & <int> & <int> & <int> & <int> & <int> & <int> & <int> & <int> & <int> & <int>\\\\\n",
       "\\hline\n",
       "\t1 & aardsda01 & 2004 & 1 & SFN & NL & 11 & 11 & 0 & 0 & 0 & ... & 0 & 0 & 0 & 0 & 0 & 0 & 0 & 0 & 0 & 11\\\\\n",
       "\t2 & aardsda01 & 2006 & 1 & CHN & NL & 45 & 43 & 2 & 0 & 0 & ... & 0 & 0 & 0 & 0 & 0 & 0 & 1 & 0 & 0 & 45\\\\\n",
       "\t3 & aardsda01 & 2007 & 1 & CHA & AL & 25 &  2 & 0 & 0 & 0 & ... & 0 & 0 & 0 & 0 & 0 & 0 & 0 & 0 & 0 &  2\\\\\n",
       "\t4 & aardsda01 & 2008 & 1 & BOS & AL & 47 &  5 & 1 & 0 & 0 & ... & 0 & 0 & 0 & 1 & 0 & 0 & 0 & 0 & 0 &  5\\\\\n",
       "\t5 & aardsda01 & 2009 & 1 & SEA & AL & 73 &  3 & 0 & 0 & 0 & ... & 0 & 0 & 0 & 0 & 0 & 0 & 0 & 0 & 0 & NA\\\\\n",
       "\t6 & aardsda01 & 2010 & 1 & SEA & AL & 53 &  4 & 0 & 0 & 0 & ... & 0 & 0 & 0 & 0 & 0 & 0 & 0 & 0 & 0 & NA\\\\\n",
       "\\end{tabular}\n"
      ],
      "text/markdown": [
       "\n",
       "A data.frame: 6 × 24\n",
       "\n",
       "| <!--/--> | playerID &lt;chr&gt; | yearID &lt;int&gt; | stint &lt;int&gt; | teamID &lt;chr&gt; | lgID &lt;chr&gt; | G &lt;int&gt; | G_batting &lt;int&gt; | AB &lt;int&gt; | R &lt;int&gt; | H &lt;int&gt; | ... ... | SB &lt;int&gt; | CS &lt;int&gt; | BB &lt;int&gt; | SO &lt;int&gt; | IBB &lt;int&gt; | HBP &lt;int&gt; | SH &lt;int&gt; | SF &lt;int&gt; | GIDP &lt;int&gt; | G_old &lt;int&gt; |\n",
       "|---|---|---|---|---|---|---|---|---|---|---|---|---|---|---|---|---|---|---|---|---|---|\n",
       "| 1 | aardsda01 | 2004 | 1 | SFN | NL | 11 | 11 | 0 | 0 | 0 | ... | 0 | 0 | 0 | 0 | 0 | 0 | 0 | 0 | 0 | 11 |\n",
       "| 2 | aardsda01 | 2006 | 1 | CHN | NL | 45 | 43 | 2 | 0 | 0 | ... | 0 | 0 | 0 | 0 | 0 | 0 | 1 | 0 | 0 | 45 |\n",
       "| 3 | aardsda01 | 2007 | 1 | CHA | AL | 25 |  2 | 0 | 0 | 0 | ... | 0 | 0 | 0 | 0 | 0 | 0 | 0 | 0 | 0 |  2 |\n",
       "| 4 | aardsda01 | 2008 | 1 | BOS | AL | 47 |  5 | 1 | 0 | 0 | ... | 0 | 0 | 0 | 1 | 0 | 0 | 0 | 0 | 0 |  5 |\n",
       "| 5 | aardsda01 | 2009 | 1 | SEA | AL | 73 |  3 | 0 | 0 | 0 | ... | 0 | 0 | 0 | 0 | 0 | 0 | 0 | 0 | 0 | NA |\n",
       "| 6 | aardsda01 | 2010 | 1 | SEA | AL | 53 |  4 | 0 | 0 | 0 | ... | 0 | 0 | 0 | 0 | 0 | 0 | 0 | 0 | 0 | NA |\n",
       "\n"
      ],
      "text/plain": [
       "  playerID  yearID stint teamID lgID G  G_batting AB R H ... SB CS BB SO IBB\n",
       "1 aardsda01 2004   1     SFN    NL   11 11        0  0 0 ... 0  0  0  0  0  \n",
       "2 aardsda01 2006   1     CHN    NL   45 43        2  0 0 ... 0  0  0  0  0  \n",
       "3 aardsda01 2007   1     CHA    AL   25  2        0  0 0 ... 0  0  0  0  0  \n",
       "4 aardsda01 2008   1     BOS    AL   47  5        1  0 0 ... 0  0  0  1  0  \n",
       "5 aardsda01 2009   1     SEA    AL   73  3        0  0 0 ... 0  0  0  0  0  \n",
       "6 aardsda01 2010   1     SEA    AL   53  4        0  0 0 ... 0  0  0  0  0  \n",
       "  HBP SH SF GIDP G_old\n",
       "1 0   0  0  0    11   \n",
       "2 0   1  0  0    45   \n",
       "3 0   0  0  0     2   \n",
       "4 0   0  0  0     5   \n",
       "5 0   0  0  0    NA   \n",
       "6 0   0  0  0    NA   "
      ]
     },
     "metadata": {},
     "output_type": "display_data"
    }
   ],
   "source": [
    "# Load Batting data\n",
    "\n",
    "batting <- read.csv('Batting.csv')\n",
    "head(batting)"
   ]
  },
  {
   "cell_type": "code",
   "execution_count": 3,
   "metadata": {},
   "outputs": [
    {
     "name": "stdout",
     "output_type": "stream",
     "text": [
      "'data.frame':\t97889 obs. of  24 variables:\n",
      " $ playerID : chr  \"aardsda01\" \"aardsda01\" \"aardsda01\" \"aardsda01\" ...\n",
      " $ yearID   : int  2004 2006 2007 2008 2009 2010 2012 1954 1955 1956 ...\n",
      " $ stint    : int  1 1 1 1 1 1 1 1 1 1 ...\n",
      " $ teamID   : chr  \"SFN\" \"CHN\" \"CHA\" \"BOS\" ...\n",
      " $ lgID     : chr  \"NL\" \"NL\" \"AL\" \"AL\" ...\n",
      " $ G        : int  11 45 25 47 73 53 1 122 153 153 ...\n",
      " $ G_batting: int  11 43 2 5 3 4 NA 122 153 153 ...\n",
      " $ AB       : int  0 2 0 1 0 0 NA 468 602 609 ...\n",
      " $ R        : int  0 0 0 0 0 0 NA 58 105 106 ...\n",
      " $ H        : int  0 0 0 0 0 0 NA 131 189 200 ...\n",
      " $ X2B      : int  0 0 0 0 0 0 NA 27 37 34 ...\n",
      " $ X3B      : int  0 0 0 0 0 0 NA 6 9 14 ...\n",
      " $ HR       : int  0 0 0 0 0 0 NA 13 27 26 ...\n",
      " $ RBI      : int  0 0 0 0 0 0 NA 69 106 92 ...\n",
      " $ SB       : int  0 0 0 0 0 0 NA 2 3 2 ...\n",
      " $ CS       : int  0 0 0 0 0 0 NA 2 1 4 ...\n",
      " $ BB       : int  0 0 0 0 0 0 NA 28 49 37 ...\n",
      " $ SO       : int  0 0 0 1 0 0 NA 39 61 54 ...\n",
      " $ IBB      : int  0 0 0 0 0 0 NA NA 5 6 ...\n",
      " $ HBP      : int  0 0 0 0 0 0 NA 3 3 2 ...\n",
      " $ SH       : int  0 1 0 0 0 0 NA 6 7 5 ...\n",
      " $ SF       : int  0 0 0 0 0 0 NA 4 4 7 ...\n",
      " $ GIDP     : int  0 0 0 0 0 0 NA 13 20 21 ...\n",
      " $ G_old    : int  11 45 2 5 NA NA NA 122 153 153 ...\n"
     ]
    }
   ],
   "source": [
    "# Check structure of the Batting data\n",
    "\n",
    "str(batting)"
   ]
  },
  {
   "cell_type": "code",
   "execution_count": 4,
   "metadata": {},
   "outputs": [
    {
     "data": {
      "text/plain": [
       "   playerID             yearID         stint          teamID         \n",
       " Length:97889       Min.   :1871   Min.   :1.000   Length:97889      \n",
       " Class :character   1st Qu.:1931   1st Qu.:1.000   Class :character  \n",
       " Mode  :character   Median :1970   Median :1.000   Mode  :character  \n",
       "                    Mean   :1962   Mean   :1.077                     \n",
       "                    3rd Qu.:1995   3rd Qu.:1.000                     \n",
       "                    Max.   :2013   Max.   :5.000                     \n",
       "                                                                     \n",
       "     lgID                 G            G_batting            AB       \n",
       " Length:97889       Min.   :  1.00   Min.   :  0.00   Min.   :  0.0  \n",
       " Class :character   1st Qu.: 13.00   1st Qu.:  7.00   1st Qu.:  9.0  \n",
       " Mode  :character   Median : 35.00   Median : 32.00   Median : 61.0  \n",
       "                    Mean   : 51.65   Mean   : 49.13   Mean   :154.1  \n",
       "                    3rd Qu.: 81.00   3rd Qu.: 81.00   3rd Qu.:260.0  \n",
       "                    Max.   :165.00   Max.   :165.00   Max.   :716.0  \n",
       "                                     NA's   :1406     NA's   :6413   \n",
       "       R                H               X2B            X3B        \n",
       " Min.   :  0.00   Min.   :  0.00   Min.   : 0.0   Min.   : 0.000  \n",
       " 1st Qu.:  0.00   1st Qu.:  1.00   1st Qu.: 0.0   1st Qu.: 0.000  \n",
       " Median :  5.00   Median : 12.00   Median : 2.0   Median : 0.000  \n",
       " Mean   : 20.47   Mean   : 40.37   Mean   : 6.8   Mean   : 1.424  \n",
       " 3rd Qu.: 31.00   3rd Qu.: 66.00   3rd Qu.:10.0   3rd Qu.: 2.000  \n",
       " Max.   :192.00   Max.   :262.00   Max.   :67.0   Max.   :36.000  \n",
       " NA's   :6413     NA's   :6413     NA's   :6413   NA's   :6413    \n",
       "       HR              RBI               SB                CS        \n",
       " Min.   : 0.000   Min.   :  0.00   Min.   :  0.000   Min.   : 0.000  \n",
       " 1st Qu.: 0.000   1st Qu.:  0.00   1st Qu.:  0.000   1st Qu.: 0.000  \n",
       " Median : 0.000   Median :  5.00   Median :  0.000   Median : 0.000  \n",
       " Mean   : 3.002   Mean   : 18.47   Mean   :  3.265   Mean   : 1.385  \n",
       " 3rd Qu.: 3.000   3rd Qu.: 28.00   3rd Qu.:  2.000   3rd Qu.: 1.000  \n",
       " Max.   :73.000   Max.   :191.00   Max.   :138.000   Max.   :42.000  \n",
       " NA's   :6413     NA's   :6837     NA's   :7713      NA's   :29867   \n",
       "       BB               SO              IBB              HBP        \n",
       " Min.   :  0.00   Min.   :  0.00   Min.   :  0.00   Min.   : 0.000  \n",
       " 1st Qu.:  0.00   1st Qu.:  2.00   1st Qu.:  0.00   1st Qu.: 0.000  \n",
       " Median :  4.00   Median : 11.00   Median :  0.00   Median : 0.000  \n",
       " Mean   : 14.21   Mean   : 21.95   Mean   :  1.28   Mean   : 1.136  \n",
       " 3rd Qu.: 21.00   3rd Qu.: 31.00   3rd Qu.:  1.00   3rd Qu.: 1.000  \n",
       " Max.   :232.00   Max.   :223.00   Max.   :120.00   Max.   :51.000  \n",
       " NA's   :6413     NA's   :14251    NA's   :42977    NA's   :9233    \n",
       "       SH               SF             GIDP           G_old       \n",
       " Min.   : 0.000   Min.   : 0.0    Min.   : 0.00   Min.   :  0.00  \n",
       " 1st Qu.: 0.000   1st Qu.: 0.0    1st Qu.: 0.00   1st Qu.: 11.00  \n",
       " Median : 1.000   Median : 0.0    Median : 1.00   Median : 34.00  \n",
       " Mean   : 2.564   Mean   : 1.2    Mean   : 3.33   Mean   : 50.99  \n",
       " 3rd Qu.: 3.000   3rd Qu.: 2.0    3rd Qu.: 5.00   3rd Qu.: 82.00  \n",
       " Max.   :67.000   Max.   :19.0    Max.   :36.00   Max.   :165.00  \n",
       " NA's   :12751    NA's   :42446   NA's   :32521   NA's   :5189    "
      ]
     },
     "metadata": {},
     "output_type": "display_data"
    }
   ],
   "source": [
    "# Check summary of the Batting data\n",
    "\n",
    "summary(batting)"
   ]
  },
  {
   "cell_type": "markdown",
   "metadata": {},
   "source": [
    "## Feature Engineering\n",
    "\n",
    "We need to add three more statistics that were used in Moneyball! These are:\n",
    "\n",
    "* <a href=\"https://en.wikipedia.org/wiki/Batting_average\">Batting Average</a>\n",
    "* <a href=\"https://en.wikipedia.org/wiki/On-base_percentage\">On Base Percentage</a>\n",
    "* <a href=\"https://en.wikipedia.org/wiki/Slugging_percentage\">Slugging Percentage</a>"
   ]
  },
  {
   "cell_type": "code",
   "execution_count": 7,
   "metadata": {},
   "outputs": [],
   "source": [
    "# Feature Engineering\n",
    "\n",
    "# Batting Average (BA)\n",
    "\n",
    "batting$BA <- batting$H / batting$AB\n",
    "\n",
    "# On Base Percentage (OBP)\n",
    "\n",
    "batting$OBP <- (batting$H + batting$BB + batting$HBP) / (batting$AB + batting$BB + batting$HBP + batting$SF)\n",
    "\n",
    "# Slugging Percentage (SLG)\n",
    "\n",
    "batting$X1B <- batting$H - batting$X2B - batting$X3B - batting$HR\n",
    "\n",
    "batting$SLG <- (batting$X1B) + (2 * batting$X2B) + (3 * batting$X3B) + (4 * batting$HR) / batting$AB\n"
   ]
  },
  {
   "cell_type": "code",
   "execution_count": 8,
   "metadata": {},
   "outputs": [
    {
     "name": "stdout",
     "output_type": "stream",
     "text": [
      "'data.frame':\t97889 obs. of  28 variables:\n",
      " $ playerID : chr  \"aardsda01\" \"aardsda01\" \"aardsda01\" \"aardsda01\" ...\n",
      " $ yearID   : int  2004 2006 2007 2008 2009 2010 2012 1954 1955 1956 ...\n",
      " $ stint    : int  1 1 1 1 1 1 1 1 1 1 ...\n",
      " $ teamID   : chr  \"SFN\" \"CHN\" \"CHA\" \"BOS\" ...\n",
      " $ lgID     : chr  \"NL\" \"NL\" \"AL\" \"AL\" ...\n",
      " $ G        : int  11 45 25 47 73 53 1 122 153 153 ...\n",
      " $ G_batting: int  11 43 2 5 3 4 NA 122 153 153 ...\n",
      " $ AB       : int  0 2 0 1 0 0 NA 468 602 609 ...\n",
      " $ R        : int  0 0 0 0 0 0 NA 58 105 106 ...\n",
      " $ H        : int  0 0 0 0 0 0 NA 131 189 200 ...\n",
      " $ X2B      : int  0 0 0 0 0 0 NA 27 37 34 ...\n",
      " $ X3B      : int  0 0 0 0 0 0 NA 6 9 14 ...\n",
      " $ HR       : int  0 0 0 0 0 0 NA 13 27 26 ...\n",
      " $ RBI      : int  0 0 0 0 0 0 NA 69 106 92 ...\n",
      " $ SB       : int  0 0 0 0 0 0 NA 2 3 2 ...\n",
      " $ CS       : int  0 0 0 0 0 0 NA 2 1 4 ...\n",
      " $ BB       : int  0 0 0 0 0 0 NA 28 49 37 ...\n",
      " $ SO       : int  0 0 0 1 0 0 NA 39 61 54 ...\n",
      " $ IBB      : int  0 0 0 0 0 0 NA NA 5 6 ...\n",
      " $ HBP      : int  0 0 0 0 0 0 NA 3 3 2 ...\n",
      " $ SH       : int  0 1 0 0 0 0 NA 6 7 5 ...\n",
      " $ SF       : int  0 0 0 0 0 0 NA 4 4 7 ...\n",
      " $ GIDP     : int  0 0 0 0 0 0 NA 13 20 21 ...\n",
      " $ G_old    : int  11 45 2 5 NA NA NA 122 153 153 ...\n",
      " $ BA       : num  NaN 0 NaN 0 NaN ...\n",
      " $ OBP      : num  NaN 0 NaN 0 NaN ...\n",
      " $ X1B      : int  0 0 0 0 0 0 NA 85 116 126 ...\n",
      " $ SLG      : num  NaN 0 NaN 0 NaN ...\n"
     ]
    }
   ],
   "source": [
    "# Check structure of the updated Batting data\n",
    "\n",
    "str(batting)"
   ]
  },
  {
   "cell_type": "markdown",
   "metadata": {},
   "source": [
    "## Merging Salary Data with Batting Data\n",
    "\n",
    "We know we don't just want the best players, we want the `most undervalued` players, meaning we will also need to know current salary information! We have salary information in the csv file 'Salaries.csv'."
   ]
  },
  {
   "cell_type": "code",
   "execution_count": 9,
   "metadata": {},
   "outputs": [
    {
     "data": {
      "text/plain": [
       "     yearID        teamID              lgID             playerID        \n",
       " Min.   :1985   Length:23956       Length:23956       Length:23956      \n",
       " 1st Qu.:1993   Class :character   Class :character   Class :character  \n",
       " Median :1999   Mode  :character   Mode  :character   Mode  :character  \n",
       " Mean   :1999                                                           \n",
       " 3rd Qu.:2006                                                           \n",
       " Max.   :2013                                                           \n",
       "     salary        \n",
       " Min.   :       0  \n",
       " 1st Qu.:  250000  \n",
       " Median :  507950  \n",
       " Mean   : 1864357  \n",
       " 3rd Qu.: 2100000  \n",
       " Max.   :33000000  "
      ]
     },
     "metadata": {},
     "output_type": "display_data"
    }
   ],
   "source": [
    "# Load Salary data and check it's structure\n",
    "\n",
    "salary <- read.csv(\"Salaries.csv\")\n",
    "summary(salary)"
   ]
  },
  {
   "cell_type": "markdown",
   "metadata": {},
   "source": [
    "#### Our `Batting` data goes back to 1871! Our `Salary` data starts at 1985, meaning we need to remove the Batting data that occured before 1985."
   ]
  },
  {
   "cell_type": "code",
   "execution_count": 12,
   "metadata": {},
   "outputs": [
    {
     "data": {
      "text/plain": [
       "   playerID             yearID         stint         teamID         \n",
       " Length:35652       Min.   :1985   Min.   :1.00   Length:35652      \n",
       " Class :character   1st Qu.:1993   1st Qu.:1.00   Class :character  \n",
       " Mode  :character   Median :2000   Median :1.00   Mode  :character  \n",
       "                    Mean   :2000   Mean   :1.08                     \n",
       "                    3rd Qu.:2007   3rd Qu.:1.00                     \n",
       "                    Max.   :2013   Max.   :4.00                     \n",
       "                                                                    \n",
       "     lgID                 G           G_batting            AB       \n",
       " Length:35652       Min.   :  1.0   Min.   :  0.00   Min.   :  0.0  \n",
       " Class :character   1st Qu.: 14.0   1st Qu.:  4.00   1st Qu.:  3.0  \n",
       " Mode  :character   Median : 34.0   Median : 27.00   Median : 47.0  \n",
       "                    Mean   : 51.7   Mean   : 46.28   Mean   :144.7  \n",
       "                    3rd Qu.: 77.0   3rd Qu.: 77.00   3rd Qu.:241.0  \n",
       "                    Max.   :163.0   Max.   :163.00   Max.   :716.0  \n",
       "                                    NA's   :1406     NA's   :4377   \n",
       "       R                H               X2B              X3B        \n",
       " Min.   :  0.00   Min.   :  0.00   Min.   : 0.000   Min.   : 0.000  \n",
       " 1st Qu.:  0.00   1st Qu.:  0.00   1st Qu.: 0.000   1st Qu.: 0.000  \n",
       " Median :  4.00   Median :  8.00   Median : 1.000   Median : 0.000  \n",
       " Mean   : 19.44   Mean   : 37.95   Mean   : 7.293   Mean   : 0.824  \n",
       " 3rd Qu.: 30.00   3rd Qu.: 61.00   3rd Qu.:11.000   3rd Qu.: 1.000  \n",
       " Max.   :152.00   Max.   :262.00   Max.   :59.000   Max.   :23.000  \n",
       " NA's   :4377     NA's   :4377     NA's   :4377     NA's   :4377    \n",
       "       HR              RBI               SB                CS        \n",
       " Min.   : 0.000   Min.   :  0.00   Min.   :  0.000   Min.   : 0.000  \n",
       " 1st Qu.: 0.000   1st Qu.:  0.00   1st Qu.:  0.000   1st Qu.: 0.000  \n",
       " Median : 0.000   Median :  3.00   Median :  0.000   Median : 0.000  \n",
       " Mean   : 4.169   Mean   : 18.41   Mean   :  2.811   Mean   : 1.219  \n",
       " 3rd Qu.: 5.000   3rd Qu.: 27.00   3rd Qu.:  2.000   3rd Qu.: 1.000  \n",
       " Max.   :73.000   Max.   :165.00   Max.   :110.000   Max.   :29.000  \n",
       " NA's   :4377     NA's   :4377     NA's   :4377      NA's   :4377    \n",
       "       BB               SO              IBB               HBP        \n",
       " Min.   :  0.00   Min.   :  0.00   Min.   :  0.000   Min.   : 0.000  \n",
       " 1st Qu.:  0.00   1st Qu.:  1.00   1st Qu.:  0.000   1st Qu.: 0.000  \n",
       " Median :  3.00   Median : 12.00   Median :  0.000   Median : 0.000  \n",
       " Mean   : 14.06   Mean   : 27.03   Mean   :  1.171   Mean   : 1.273  \n",
       " 3rd Qu.: 21.00   3rd Qu.: 42.00   3rd Qu.:  1.000   3rd Qu.: 1.000  \n",
       " Max.   :232.00   Max.   :223.00   Max.   :120.000   Max.   :35.000  \n",
       " NA's   :4377     NA's   :4377     NA's   :4378      NA's   :4387    \n",
       "       SH               SF              GIDP           G_old      \n",
       " Min.   : 0.000   Min.   : 0.000   Min.   : 0.00   Min.   :  0.0  \n",
       " 1st Qu.: 0.000   1st Qu.: 0.000   1st Qu.: 0.00   1st Qu.: 11.0  \n",
       " Median : 0.000   Median : 0.000   Median : 1.00   Median : 32.0  \n",
       " Mean   : 1.465   Mean   : 1.212   Mean   : 3.25   Mean   : 49.7  \n",
       " 3rd Qu.: 2.000   3rd Qu.: 2.000   3rd Qu.: 5.00   3rd Qu.: 77.0  \n",
       " Max.   :39.000   Max.   :17.000   Max.   :35.00   Max.   :163.0  \n",
       " NA's   :4377     NA's   :4378     NA's   :4377    NA's   :5189   \n",
       "       BA             OBP             X1B              SLG        \n",
       " Min.   :0.000   Min.   :0.000   Min.   :  0.00   Min.   :  0.00  \n",
       " 1st Qu.:0.136   1st Qu.:0.188   1st Qu.:  0.00   1st Qu.:  2.00  \n",
       " Median :0.233   Median :0.296   Median :  6.00   Median : 18.05  \n",
       " Mean   :0.205   Mean   :0.262   Mean   : 25.66   Mean   : 50.03  \n",
       " 3rd Qu.:0.274   3rd Qu.:0.342   3rd Qu.: 42.00   3rd Qu.: 86.01  \n",
       " Max.   :1.000   Max.   :1.000   Max.   :225.00   Max.   :291.05  \n",
       " NA's   :8905    NA's   :8821    NA's   :4377     NA's   :8905    "
      ]
     },
     "metadata": {},
     "output_type": "display_data"
    }
   ],
   "source": [
    "# FIlter data and check it's structure (the Min yearID is 1985)\n",
    "\n",
    "batting.after1985 <- batting[batting$yearID >= 1985, ]\n",
    "summary(batting.after1985)"
   ]
  },
  {
   "cell_type": "markdown",
   "metadata": {},
   "source": [
    "#### Now it is time to merge the `Batting` data with the `Salary` data! Since we have players playing multiple years, we'll have repetitions of playerIDs for multiple years, meaning we want to merge on both players and years."
   ]
  },
  {
   "cell_type": "code",
   "execution_count": 13,
   "metadata": {},
   "outputs": [
    {
     "data": {
      "text/plain": [
       "   playerID             yearID         stint         teamID.x        \n",
       " Length:25397       Min.   :1985   Min.   :1.000   Length:25397      \n",
       " Class :character   1st Qu.:1993   1st Qu.:1.000   Class :character  \n",
       " Mode  :character   Median :1999   Median :1.000   Mode  :character  \n",
       "                    Mean   :1999   Mean   :1.098                     \n",
       "                    3rd Qu.:2006   3rd Qu.:1.000                     \n",
       "                    Max.   :2013   Max.   :4.000                     \n",
       "                                                                     \n",
       "    lgID.x                G            G_batting            AB       \n",
       " Length:25397       Min.   :  1.00   Min.   :  0.00   Min.   :  0.0  \n",
       " Class :character   1st Qu.: 26.00   1st Qu.:  8.00   1st Qu.:  5.0  \n",
       " Mode  :character   Median : 50.00   Median : 42.00   Median : 85.0  \n",
       "                    Mean   : 64.06   Mean   : 57.58   Mean   :182.4  \n",
       "                    3rd Qu.:101.00   3rd Qu.:101.00   3rd Qu.:336.0  \n",
       "                    Max.   :163.00   Max.   :163.00   Max.   :716.0  \n",
       "                                     NA's   :906      NA's   :2661   \n",
       "       R                H               X2B              X3B        \n",
       " Min.   :  0.00   Min.   :  0.00   Min.   : 0.000   Min.   : 0.000  \n",
       " 1st Qu.:  0.00   1st Qu.:  1.00   1st Qu.: 0.000   1st Qu.: 0.000  \n",
       " Median :  9.00   Median : 19.00   Median : 3.000   Median : 0.000  \n",
       " Mean   : 24.71   Mean   : 48.18   Mean   : 9.276   Mean   : 1.033  \n",
       " 3rd Qu.: 43.00   3rd Qu.: 87.25   3rd Qu.:16.000   3rd Qu.: 1.000  \n",
       " Max.   :152.00   Max.   :262.00   Max.   :59.000   Max.   :23.000  \n",
       " NA's   :2661     NA's   :2661     NA's   :2661     NA's   :2661    \n",
       "       HR              RBI               SB                CS       \n",
       " Min.   : 0.000   Min.   :  0.00   Min.   :  0.000   Min.   : 0.00  \n",
       " 1st Qu.: 0.000   1st Qu.:  0.00   1st Qu.:  0.000   1st Qu.: 0.00  \n",
       " Median : 1.000   Median :  8.00   Median :  0.000   Median : 0.00  \n",
       " Mean   : 5.369   Mean   : 23.56   Mean   :  3.568   Mean   : 1.54  \n",
       " 3rd Qu.: 7.000   3rd Qu.: 39.00   3rd Qu.:  3.000   3rd Qu.: 2.00  \n",
       " Max.   :73.000   Max.   :165.00   Max.   :110.000   Max.   :29.00  \n",
       " NA's   :2661     NA's   :2661     NA's   :2661      NA's   :2661   \n",
       "       BB               SO              IBB               HBP        \n",
       " Min.   :  0.00   Min.   :  0.00   Min.   :  0.000   Min.   : 0.000  \n",
       " 1st Qu.:  0.00   1st Qu.:  2.00   1st Qu.:  0.000   1st Qu.: 0.000  \n",
       " Median :  6.00   Median : 20.00   Median :  0.000   Median : 0.000  \n",
       " Mean   : 17.98   Mean   : 33.52   Mean   :  1.533   Mean   : 1.614  \n",
       " 3rd Qu.: 29.00   3rd Qu.: 55.00   3rd Qu.:  2.000   3rd Qu.: 2.000  \n",
       " Max.   :232.00   Max.   :223.00   Max.   :120.000   Max.   :35.000  \n",
       " NA's   :2661     NA's   :2661     NA's   :2662      NA's   :2670    \n",
       "       SH               SF              GIDP            G_old       \n",
       " Min.   : 0.000   Min.   : 0.000   Min.   : 0.000   Min.   :  0.00  \n",
       " 1st Qu.: 0.000   1st Qu.: 0.000   1st Qu.: 0.000   1st Qu.: 20.00  \n",
       " Median : 0.000   Median : 0.000   Median : 2.000   Median : 47.00  \n",
       " Mean   : 1.786   Mean   : 1.554   Mean   : 4.127   Mean   : 61.43  \n",
       " 3rd Qu.: 2.000   3rd Qu.: 2.000   3rd Qu.: 7.000   3rd Qu.:101.00  \n",
       " Max.   :39.000   Max.   :17.000   Max.   :35.000   Max.   :163.00  \n",
       " NA's   :2661     NA's   :2662     NA's   :2661     NA's   :3414    \n",
       "       BA             OBP             X1B             SLG        \n",
       " Min.   :0.000   Min.   :0.000   Min.   :  0.0   Min.   :  0.00  \n",
       " 1st Qu.:0.160   1st Qu.:0.208   1st Qu.:  0.0   1st Qu.:  4.00  \n",
       " Median :0.242   Median :0.305   Median : 13.0   Median : 37.15  \n",
       " Mean   :0.212   Mean   :0.270   Mean   : 32.5   Mean   : 62.32  \n",
       " 3rd Qu.:0.276   3rd Qu.:0.346   3rd Qu.: 59.0   3rd Qu.:112.05  \n",
       " Max.   :1.000   Max.   :1.000   Max.   :225.0   Max.   :291.05  \n",
       " NA's   :5618    NA's   :5562    NA's   :2661    NA's   :5618    \n",
       "   teamID.y            lgID.y              salary        \n",
       " Length:25397       Length:25397       Min.   :       0  \n",
       " Class :character   Class :character   1st Qu.:  255000  \n",
       " Mode  :character   Mode  :character   Median :  550000  \n",
       "                                       Mean   : 1879256  \n",
       "                                       3rd Qu.: 2150000  \n",
       "                                       Max.   :33000000  \n",
       "                                                         "
      ]
     },
     "metadata": {},
     "output_type": "display_data"
    }
   ],
   "source": [
    "# Merge 2 df's and check it's structure\n",
    "\n",
    "combo <- merge(batting.after1985, salary, c('playerID','yearID'))\n",
    "summary(combo)"
   ]
  },
  {
   "cell_type": "markdown",
   "metadata": {},
   "source": [
    "# Analyzing the Lost Players\n",
    "The Oakland A's lost 3 key players during the off-season in 2021. We'll want to get their stats to see what we have to replace. The players lost were: first baseman 2000 AL MVP Jason Giambi (`giambja01`) to the New York Yankees, outfielder Johnny Damon (`damonjo01`) to the Boston Red Sox and infielder Rainer Gustavo \"Ray\" Olmedo (`saenzol01`)."
   ]
  },
  {
   "cell_type": "code",
   "execution_count": 15,
   "metadata": {},
   "outputs": [
    {
     "data": {
      "text/html": [
       "<table class=\"dataframe\">\n",
       "<caption>A data.frame: 44 × 31</caption>\n",
       "<thead>\n",
       "\t<tr><th></th><th scope=col>playerID</th><th scope=col>yearID</th><th scope=col>stint</th><th scope=col>teamID.x</th><th scope=col>lgID.x</th><th scope=col>G</th><th scope=col>G_batting</th><th scope=col>AB</th><th scope=col>R</th><th scope=col>H</th><th scope=col>...</th><th scope=col>SF</th><th scope=col>GIDP</th><th scope=col>G_old</th><th scope=col>BA</th><th scope=col>OBP</th><th scope=col>X1B</th><th scope=col>SLG</th><th scope=col>teamID.y</th><th scope=col>lgID.y</th><th scope=col>salary</th></tr>\n",
       "\t<tr><th></th><th scope=col>&lt;chr&gt;</th><th scope=col>&lt;int&gt;</th><th scope=col>&lt;int&gt;</th><th scope=col>&lt;chr&gt;</th><th scope=col>&lt;chr&gt;</th><th scope=col>&lt;int&gt;</th><th scope=col>&lt;int&gt;</th><th scope=col>&lt;int&gt;</th><th scope=col>&lt;int&gt;</th><th scope=col>&lt;int&gt;</th><th scope=col>...</th><th scope=col>&lt;int&gt;</th><th scope=col>&lt;int&gt;</th><th scope=col>&lt;int&gt;</th><th scope=col>&lt;dbl&gt;</th><th scope=col>&lt;dbl&gt;</th><th scope=col>&lt;int&gt;</th><th scope=col>&lt;dbl&gt;</th><th scope=col>&lt;chr&gt;</th><th scope=col>&lt;chr&gt;</th><th scope=col>&lt;int&gt;</th></tr>\n",
       "</thead>\n",
       "<tbody>\n",
       "\t<tr><th scope=row>5135</th><td>damonjo01</td><td>1995</td><td>1</td><td>KCA</td><td>AL</td><td> 47</td><td> 47</td><td>188</td><td> 32</td><td> 53</td><td>...</td><td> 3</td><td> 2</td><td> 47</td><td>0.2819149</td><td>0.3235294</td><td> 34</td><td> 71.063830</td><td>KCA</td><td>AL</td><td>  109000</td></tr>\n",
       "\t<tr><th scope=row>5136</th><td>damonjo01</td><td>1996</td><td>1</td><td>KCA</td><td>AL</td><td>145</td><td>145</td><td>517</td><td> 61</td><td>140</td><td>...</td><td> 5</td><td> 4</td><td>145</td><td>0.2707930</td><td>0.3129496</td><td>107</td><td>166.046422</td><td>KCA</td><td>AL</td><td>  180000</td></tr>\n",
       "\t<tr><th scope=row>5137</th><td>damonjo01</td><td>1997</td><td>1</td><td>KCA</td><td>AL</td><td>146</td><td>146</td><td>472</td><td> 70</td><td>130</td><td>...</td><td> 1</td><td> 3</td><td>146</td><td>0.2754237</td><td>0.3378378</td><td>102</td><td>150.067797</td><td>KCA</td><td>AL</td><td>  240000</td></tr>\n",
       "\t<tr><th scope=row>5138</th><td>damonjo01</td><td>1998</td><td>1</td><td>KCA</td><td>AL</td><td>161</td><td>161</td><td>642</td><td>104</td><td>178</td><td>...</td><td> 3</td><td> 4</td><td>161</td><td>0.2772586</td><td>0.3394625</td><td>120</td><td>210.112150</td><td>KCA</td><td>AL</td><td>  460000</td></tr>\n",
       "\t<tr><th scope=row>5139</th><td>damonjo01</td><td>1999</td><td>1</td><td>KCA</td><td>AL</td><td>145</td><td>145</td><td>583</td><td>101</td><td>179</td><td>...</td><td> 4</td><td>13</td><td>145</td><td>0.3070326</td><td>0.3789954</td><td>117</td><td>222.096055</td><td>KCA</td><td>AL</td><td> 2100000</td></tr>\n",
       "\t<tr><th scope=row>5140</th><td>damonjo01</td><td>2000</td><td>1</td><td>KCA</td><td>AL</td><td>159</td><td>159</td><td>655</td><td>136</td><td>214</td><td>...</td><td>12</td><td> 7</td><td>159</td><td>0.3267176</td><td>0.3819918</td><td>146</td><td>260.097710</td><td>KCA</td><td>AL</td><td> 4000000</td></tr>\n",
       "\t<tr><th scope=row>5141</th><td>damonjo01</td><td>2001</td><td>1</td><td>OAK</td><td>AL</td><td>155</td><td>155</td><td>644</td><td>108</td><td>165</td><td>...</td><td> 4</td><td> 7</td><td>155</td><td>0.2562112</td><td>0.3235294</td><td>118</td><td>198.055901</td><td>OAK</td><td>AL</td><td> 7100000</td></tr>\n",
       "\t<tr><th scope=row>5142</th><td>damonjo01</td><td>2002</td><td>1</td><td>BOS</td><td>AL</td><td>154</td><td>154</td><td>623</td><td>118</td><td>178</td><td>...</td><td> 5</td><td> 4</td><td>154</td><td>0.2857143</td><td>0.3562232</td><td>119</td><td>220.089888</td><td>BOS</td><td>AL</td><td> 7250000</td></tr>\n",
       "\t<tr><th scope=row>5143</th><td>damonjo01</td><td>2003</td><td>1</td><td>BOS</td><td>AL</td><td>145</td><td>145</td><td>608</td><td>103</td><td>166</td><td>...</td><td> 6</td><td> 5</td><td>145</td><td>0.2730263</td><td>0.3450292</td><td>116</td><td>198.078947</td><td>BOS</td><td>AL</td><td> 7500000</td></tr>\n",
       "\t<tr><th scope=row>5144</th><td>damonjo01</td><td>2004</td><td>1</td><td>BOS</td><td>AL</td><td>150</td><td>150</td><td>621</td><td>123</td><td>189</td><td>...</td><td> 3</td><td> 8</td><td>150</td><td>0.3043478</td><td>0.3803419</td><td>128</td><td>216.128824</td><td>BOS</td><td>AL</td><td> 8000000</td></tr>\n",
       "\t<tr><th scope=row>5145</th><td>damonjo01</td><td>2005</td><td>1</td><td>BOS</td><td>AL</td><td>148</td><td>148</td><td>624</td><td>117</td><td>197</td><td>...</td><td> 9</td><td> 5</td><td>148</td><td>0.3157051</td><td>0.3662791</td><td>146</td><td>234.064103</td><td>BOS</td><td>AL</td><td> 8250000</td></tr>\n",
       "\t<tr><th scope=row>5146</th><td>damonjo01</td><td>2006</td><td>1</td><td>NYA</td><td>AL</td><td>149</td><td>149</td><td>593</td><td>115</td><td>169</td><td>...</td><td> 5</td><td> 4</td><td>149</td><td>0.2849916</td><td>0.3587444</td><td>105</td><td>190.161889</td><td>NYA</td><td>AL</td><td>13000000</td></tr>\n",
       "\t<tr><th scope=row>5147</th><td>damonjo01</td><td>2007</td><td>1</td><td>NYA</td><td>AL</td><td>141</td><td>141</td><td>533</td><td> 93</td><td>144</td><td>...</td><td> 3</td><td> 4</td><td>141</td><td>0.2701689</td><td>0.3509934</td><td>103</td><td>163.090056</td><td>NYA</td><td>AL</td><td>13000000</td></tr>\n",
       "\t<tr><th scope=row>5148</th><td>damonjo01</td><td>2008</td><td>1</td><td>NYA</td><td>AL</td><td>143</td><td>143</td><td>555</td><td> 95</td><td>168</td><td>...</td><td> 1</td><td> 5</td><td>143</td><td>0.3027027</td><td>0.3752013</td><td>119</td><td>188.122523</td><td>NYA</td><td>AL</td><td>13000000</td></tr>\n",
       "\t<tr><th scope=row>5149</th><td>damonjo01</td><td>2009</td><td>1</td><td>NYA</td><td>AL</td><td>143</td><td>143</td><td>550</td><td>107</td><td>155</td><td>...</td><td> 1</td><td> 9</td><td> NA</td><td>0.2818182</td><td>0.3653846</td><td> 92</td><td>173.174545</td><td>NYA</td><td>AL</td><td>13000000</td></tr>\n",
       "\t<tr><th scope=row>5150</th><td>damonjo01</td><td>2010</td><td>1</td><td>DET</td><td>AL</td><td>145</td><td>145</td><td>539</td><td> 81</td><td>146</td><td>...</td><td> 1</td><td> 5</td><td> NA</td><td>0.2708720</td><td>0.3551555</td><td> 97</td><td>184.059369</td><td>DET</td><td>AL</td><td> 8000000</td></tr>\n",
       "\t<tr><th scope=row>5151</th><td>damonjo01</td><td>2011</td><td>1</td><td>TBA</td><td>AL</td><td>150</td><td>150</td><td>582</td><td> 79</td><td>152</td><td>...</td><td> 5</td><td> 4</td><td>150</td><td>0.2611684</td><td>0.3255814</td><td>100</td><td>179.109966</td><td>TBA</td><td>AL</td><td> 5250000</td></tr>\n",
       "\t<tr><th scope=row>7872</th><td>giambja01</td><td>1995</td><td>1</td><td>OAK</td><td>AL</td><td> 54</td><td> 54</td><td>176</td><td> 27</td><td> 45</td><td>...</td><td> 2</td><td> 4</td><td> 54</td><td>0.2556818</td><td>0.3636364</td><td> 32</td><td> 46.136364</td><td>OAK</td><td>AL</td><td>  109000</td></tr>\n",
       "\t<tr><th scope=row>7873</th><td>giambja01</td><td>1996</td><td>1</td><td>OAK</td><td>AL</td><td>140</td><td>140</td><td>536</td><td> 84</td><td>156</td><td>...</td><td> 5</td><td>15</td><td>140</td><td>0.2910448</td><td>0.3551089</td><td> 95</td><td>178.149254</td><td>OAK</td><td>AL</td><td>  120000</td></tr>\n",
       "\t<tr><th scope=row>7874</th><td>giambja01</td><td>1997</td><td>1</td><td>OAK</td><td>AL</td><td>142</td><td>142</td><td>519</td><td> 66</td><td>152</td><td>...</td><td> 8</td><td>11</td><td>142</td><td>0.2928709</td><td>0.3622449</td><td> 89</td><td>177.154143</td><td>OAK</td><td>AL</td><td>  205000</td></tr>\n",
       "\t<tr><th scope=row>7875</th><td>giambja01</td><td>1998</td><td>1</td><td>OAK</td><td>AL</td><td>153</td><td>153</td><td>562</td><td> 92</td><td>166</td><td>...</td><td> 9</td><td>16</td><td>153</td><td>0.2953737</td><td>0.3835616</td><td>111</td><td>167.192171</td><td>OAK</td><td>AL</td><td>  315000</td></tr>\n",
       "\t<tr><th scope=row>7876</th><td>giambja01</td><td>1999</td><td>1</td><td>OAK</td><td>AL</td><td>158</td><td>158</td><td>575</td><td>115</td><td>181</td><td>...</td><td> 8</td><td>11</td><td>158</td><td>0.3147826</td><td>0.4215827</td><td>111</td><td>186.229565</td><td>OAK</td><td>AL</td><td> 2103333</td></tr>\n",
       "\t<tr><th scope=row>7877</th><td>giambja01</td><td>2000</td><td>1</td><td>OAK</td><td>AL</td><td>152</td><td>152</td><td>510</td><td>108</td><td>170</td><td>...</td><td> 8</td><td> 9</td><td>152</td><td>0.3333333</td><td>0.4759036</td><td> 97</td><td>158.337255</td><td>OAK</td><td>AL</td><td> 3103333</td></tr>\n",
       "\t<tr><th scope=row>7878</th><td>giambja01</td><td>2001</td><td>1</td><td>OAK</td><td>AL</td><td>154</td><td>154</td><td>520</td><td>109</td><td>178</td><td>...</td><td> 9</td><td>17</td><td>154</td><td>0.3423077</td><td>0.4769001</td><td> 91</td><td>191.292308</td><td>OAK</td><td>AL</td><td> 4103333</td></tr>\n",
       "\t<tr><th scope=row>7879</th><td>giambja01</td><td>2002</td><td>1</td><td>NYA</td><td>AL</td><td>155</td><td>155</td><td>560</td><td>120</td><td>176</td><td>...</td><td> 5</td><td>18</td><td>155</td><td>0.3142857</td><td>0.4354136</td><td>100</td><td>171.292857</td><td>NYA</td><td>AL</td><td>10428571</td></tr>\n",
       "\t<tr><th scope=row>7880</th><td>giambja01</td><td>2003</td><td>1</td><td>NYA</td><td>AL</td><td>156</td><td>156</td><td>535</td><td> 97</td><td>134</td><td>...</td><td> 5</td><td> 9</td><td>156</td><td>0.2504673</td><td>0.4115942</td><td> 68</td><td>118.306542</td><td>NYA</td><td>AL</td><td>11428571</td></tr>\n",
       "\t<tr><th scope=row>7881</th><td>giambja01</td><td>2004</td><td>1</td><td>NYA</td><td>AL</td><td> 80</td><td> 80</td><td>264</td><td> 33</td><td> 55</td><td>...</td><td> 3</td><td> 5</td><td> 80</td><td>0.2083333</td><td>0.3416149</td><td> 34</td><td> 52.181818</td><td>NYA</td><td>AL</td><td>12428571</td></tr>\n",
       "\t<tr><th scope=row>7882</th><td>giambja01</td><td>2005</td><td>1</td><td>NYA</td><td>AL</td><td>139</td><td>139</td><td>417</td><td> 74</td><td>113</td><td>...</td><td> 1</td><td> 7</td><td>139</td><td>0.2709832</td><td>0.4403670</td><td> 67</td><td> 95.306954</td><td>NYA</td><td>AL</td><td>13428571</td></tr>\n",
       "\t<tr><th scope=row>7883</th><td>giambja01</td><td>2006</td><td>1</td><td>NYA</td><td>AL</td><td>139</td><td>139</td><td>446</td><td> 92</td><td>113</td><td>...</td><td> 7</td><td>10</td><td>139</td><td>0.2533632</td><td>0.4127807</td><td> 51</td><td>101.331839</td><td>NYA</td><td>AL</td><td>20428571</td></tr>\n",
       "\t<tr><th scope=row>7884</th><td>giambja01</td><td>2007</td><td>1</td><td>NYA</td><td>AL</td><td> 83</td><td> 83</td><td>254</td><td> 31</td><td> 60</td><td>...</td><td> 1</td><td> 1</td><td> 83</td><td>0.2362205</td><td>0.3564356</td><td> 38</td><td> 54.220472</td><td>NYA</td><td>AL</td><td>23428571</td></tr>\n",
       "\t<tr><th scope=row>7885</th><td>giambja01</td><td>2008</td><td>1</td><td>NYA</td><td>AL</td><td>145</td><td>145</td><td>458</td><td> 68</td><td>113</td><td>...</td><td> 9</td><td> 6</td><td>145</td><td>0.2467249</td><td>0.3734513</td><td> 61</td><td>102.279476</td><td>NYA</td><td>AL</td><td>23428571</td></tr>\n",
       "\t<tr><th scope=row>7886</th><td>giambja01</td><td>2009</td><td>1</td><td>OAK</td><td>AL</td><td> 83</td><td> 83</td><td>269</td><td> 39</td><td> 52</td><td>...</td><td> 2</td><td> 6</td><td> NA</td><td>0.1933086</td><td>0.3323171</td><td> 28</td><td> 54.163569</td><td>OAK</td><td>AL</td><td> 4000000</td></tr>\n",
       "\t<tr><th scope=row>7887</th><td>giambja01</td><td>2009</td><td>2</td><td>COL</td><td>NL</td><td> 19</td><td> 19</td><td> 24</td><td>  4</td><td>  7</td><td>...</td><td> 0</td><td> 0</td><td> NA</td><td>0.2916667</td><td>0.4516129</td><td>  4</td><td>  6.333333</td><td>OAK</td><td>AL</td><td> 4000000</td></tr>\n",
       "\t<tr><th scope=row>7888</th><td>giambja01</td><td>2010</td><td>1</td><td>COL</td><td>NL</td><td> 87</td><td> 87</td><td>176</td><td> 17</td><td> 43</td><td>...</td><td> 5</td><td> 5</td><td> NA</td><td>0.2443182</td><td>0.3783784</td><td> 28</td><td> 46.136364</td><td>COL</td><td>NL</td><td> 1750000</td></tr>\n",
       "\t<tr><th scope=row>7889</th><td>giambja01</td><td>2011</td><td>1</td><td>COL</td><td>NL</td><td> 64</td><td> 64</td><td>131</td><td> 20</td><td> 34</td><td>...</td><td> 1</td><td> 1</td><td> 64</td><td>0.2595420</td><td>0.3552632</td><td> 15</td><td> 27.396947</td><td>COL</td><td>NL</td><td> 1000000</td></tr>\n",
       "\t<tr><th scope=row>7890</th><td>giambja01</td><td>2012</td><td>1</td><td>COL</td><td>NL</td><td> 60</td><td> NA</td><td> 89</td><td>  7</td><td> 20</td><td>...</td><td> 2</td><td> 4</td><td> NA</td><td>0.2247191</td><td>0.3716814</td><td> 15</td><td> 23.044944</td><td>COL</td><td>NL</td><td> 1000000</td></tr>\n",
       "\t<tr><th scope=row>7891</th><td>giambja01</td><td>2013</td><td>1</td><td>CLE</td><td>AL</td><td> 71</td><td> 71</td><td>186</td><td> 21</td><td> 34</td><td>...</td><td> 3</td><td> 8</td><td> NA</td><td>0.1827957</td><td>0.2824074</td><td> 17</td><td> 33.193548</td><td>CLE</td><td>AL</td><td>  750000</td></tr>\n",
       "\t<tr><th scope=row>20112</th><td>saenzol01</td><td>1999</td><td>1</td><td>OAK</td><td>AL</td><td> 97</td><td> 97</td><td>255</td><td> 41</td><td> 70</td><td>...</td><td> 3</td><td> 6</td><td> 97</td><td>0.2745098</td><td>0.3627119</td><td> 41</td><td> 77.172549</td><td>OAK</td><td>AL</td><td>  240000</td></tr>\n",
       "\t<tr><th scope=row>20113</th><td>saenzol01</td><td>2000</td><td>1</td><td>OAK</td><td>AL</td><td> 76</td><td> 76</td><td>214</td><td> 40</td><td> 67</td><td>...</td><td> 1</td><td> 6</td><td> 76</td><td>0.3130841</td><td>0.4008097</td><td> 44</td><td> 74.168224</td><td>OAK</td><td>AL</td><td>  260000</td></tr>\n",
       "\t<tr><th scope=row>20114</th><td>saenzol01</td><td>2001</td><td>1</td><td>OAK</td><td>AL</td><td>106</td><td>106</td><td>305</td><td> 33</td><td> 67</td><td>...</td><td> 3</td><td> 9</td><td>106</td><td>0.2196721</td><td>0.2911765</td><td> 36</td><td> 81.118033</td><td>OAK</td><td>AL</td><td>  290000</td></tr>\n",
       "\t<tr><th scope=row>20115</th><td>saenzol01</td><td>2002</td><td>1</td><td>OAK</td><td>AL</td><td> 68</td><td> 68</td><td>156</td><td> 15</td><td> 43</td><td>...</td><td> 2</td><td> 2</td><td> 68</td><td>0.2756410</td><td>0.3539326</td><td> 26</td><td> 49.153846</td><td>OAK</td><td>AL</td><td>  800000</td></tr>\n",
       "\t<tr><th scope=row>20116</th><td>saenzol01</td><td>2005</td><td>1</td><td>LAN</td><td>NL</td><td>109</td><td>109</td><td>319</td><td> 39</td><td> 84</td><td>...</td><td> 2</td><td>12</td><td>109</td><td>0.2633229</td><td>0.3247863</td><td> 45</td><td> 93.188088</td><td>LAN</td><td>NL</td><td>  650000</td></tr>\n",
       "\t<tr><th scope=row>20117</th><td>saenzol01</td><td>2006</td><td>1</td><td>LAN</td><td>NL</td><td>103</td><td>103</td><td>179</td><td> 30</td><td> 53</td><td>...</td><td> 4</td><td> 4</td><td>103</td><td>0.2960894</td><td>0.3627451</td><td> 27</td><td> 57.245810</td><td>LAN</td><td>NL</td><td> 1000000</td></tr>\n",
       "\t<tr><th scope=row>20118</th><td>saenzol01</td><td>2007</td><td>1</td><td>LAN</td><td>NL</td><td> 92</td><td> 92</td><td>110</td><td>  9</td><td> 21</td><td>...</td><td> 4</td><td> 5</td><td> 92</td><td>0.1909091</td><td>0.2954545</td><td> 12</td><td> 22.145455</td><td>LAN</td><td>NL</td><td> 1000000</td></tr>\n",
       "</tbody>\n",
       "</table>\n"
      ],
      "text/latex": [
       "A data.frame: 44 × 31\n",
       "\\begin{tabular}{r|lllllllllllllllllllll}\n",
       "  & playerID & yearID & stint & teamID.x & lgID.x & G & G\\_batting & AB & R & H & ... & SF & GIDP & G\\_old & BA & OBP & X1B & SLG & teamID.y & lgID.y & salary\\\\\n",
       "  & <chr> & <int> & <int> & <chr> & <chr> & <int> & <int> & <int> & <int> & <int> & ... & <int> & <int> & <int> & <dbl> & <dbl> & <int> & <dbl> & <chr> & <chr> & <int>\\\\\n",
       "\\hline\n",
       "\t5135 & damonjo01 & 1995 & 1 & KCA & AL &  47 &  47 & 188 &  32 &  53 & ... &  3 &  2 &  47 & 0.2819149 & 0.3235294 &  34 &  71.063830 & KCA & AL &   109000\\\\\n",
       "\t5136 & damonjo01 & 1996 & 1 & KCA & AL & 145 & 145 & 517 &  61 & 140 & ... &  5 &  4 & 145 & 0.2707930 & 0.3129496 & 107 & 166.046422 & KCA & AL &   180000\\\\\n",
       "\t5137 & damonjo01 & 1997 & 1 & KCA & AL & 146 & 146 & 472 &  70 & 130 & ... &  1 &  3 & 146 & 0.2754237 & 0.3378378 & 102 & 150.067797 & KCA & AL &   240000\\\\\n",
       "\t5138 & damonjo01 & 1998 & 1 & KCA & AL & 161 & 161 & 642 & 104 & 178 & ... &  3 &  4 & 161 & 0.2772586 & 0.3394625 & 120 & 210.112150 & KCA & AL &   460000\\\\\n",
       "\t5139 & damonjo01 & 1999 & 1 & KCA & AL & 145 & 145 & 583 & 101 & 179 & ... &  4 & 13 & 145 & 0.3070326 & 0.3789954 & 117 & 222.096055 & KCA & AL &  2100000\\\\\n",
       "\t5140 & damonjo01 & 2000 & 1 & KCA & AL & 159 & 159 & 655 & 136 & 214 & ... & 12 &  7 & 159 & 0.3267176 & 0.3819918 & 146 & 260.097710 & KCA & AL &  4000000\\\\\n",
       "\t5141 & damonjo01 & 2001 & 1 & OAK & AL & 155 & 155 & 644 & 108 & 165 & ... &  4 &  7 & 155 & 0.2562112 & 0.3235294 & 118 & 198.055901 & OAK & AL &  7100000\\\\\n",
       "\t5142 & damonjo01 & 2002 & 1 & BOS & AL & 154 & 154 & 623 & 118 & 178 & ... &  5 &  4 & 154 & 0.2857143 & 0.3562232 & 119 & 220.089888 & BOS & AL &  7250000\\\\\n",
       "\t5143 & damonjo01 & 2003 & 1 & BOS & AL & 145 & 145 & 608 & 103 & 166 & ... &  6 &  5 & 145 & 0.2730263 & 0.3450292 & 116 & 198.078947 & BOS & AL &  7500000\\\\\n",
       "\t5144 & damonjo01 & 2004 & 1 & BOS & AL & 150 & 150 & 621 & 123 & 189 & ... &  3 &  8 & 150 & 0.3043478 & 0.3803419 & 128 & 216.128824 & BOS & AL &  8000000\\\\\n",
       "\t5145 & damonjo01 & 2005 & 1 & BOS & AL & 148 & 148 & 624 & 117 & 197 & ... &  9 &  5 & 148 & 0.3157051 & 0.3662791 & 146 & 234.064103 & BOS & AL &  8250000\\\\\n",
       "\t5146 & damonjo01 & 2006 & 1 & NYA & AL & 149 & 149 & 593 & 115 & 169 & ... &  5 &  4 & 149 & 0.2849916 & 0.3587444 & 105 & 190.161889 & NYA & AL & 13000000\\\\\n",
       "\t5147 & damonjo01 & 2007 & 1 & NYA & AL & 141 & 141 & 533 &  93 & 144 & ... &  3 &  4 & 141 & 0.2701689 & 0.3509934 & 103 & 163.090056 & NYA & AL & 13000000\\\\\n",
       "\t5148 & damonjo01 & 2008 & 1 & NYA & AL & 143 & 143 & 555 &  95 & 168 & ... &  1 &  5 & 143 & 0.3027027 & 0.3752013 & 119 & 188.122523 & NYA & AL & 13000000\\\\\n",
       "\t5149 & damonjo01 & 2009 & 1 & NYA & AL & 143 & 143 & 550 & 107 & 155 & ... &  1 &  9 &  NA & 0.2818182 & 0.3653846 &  92 & 173.174545 & NYA & AL & 13000000\\\\\n",
       "\t5150 & damonjo01 & 2010 & 1 & DET & AL & 145 & 145 & 539 &  81 & 146 & ... &  1 &  5 &  NA & 0.2708720 & 0.3551555 &  97 & 184.059369 & DET & AL &  8000000\\\\\n",
       "\t5151 & damonjo01 & 2011 & 1 & TBA & AL & 150 & 150 & 582 &  79 & 152 & ... &  5 &  4 & 150 & 0.2611684 & 0.3255814 & 100 & 179.109966 & TBA & AL &  5250000\\\\\n",
       "\t7872 & giambja01 & 1995 & 1 & OAK & AL &  54 &  54 & 176 &  27 &  45 & ... &  2 &  4 &  54 & 0.2556818 & 0.3636364 &  32 &  46.136364 & OAK & AL &   109000\\\\\n",
       "\t7873 & giambja01 & 1996 & 1 & OAK & AL & 140 & 140 & 536 &  84 & 156 & ... &  5 & 15 & 140 & 0.2910448 & 0.3551089 &  95 & 178.149254 & OAK & AL &   120000\\\\\n",
       "\t7874 & giambja01 & 1997 & 1 & OAK & AL & 142 & 142 & 519 &  66 & 152 & ... &  8 & 11 & 142 & 0.2928709 & 0.3622449 &  89 & 177.154143 & OAK & AL &   205000\\\\\n",
       "\t7875 & giambja01 & 1998 & 1 & OAK & AL & 153 & 153 & 562 &  92 & 166 & ... &  9 & 16 & 153 & 0.2953737 & 0.3835616 & 111 & 167.192171 & OAK & AL &   315000\\\\\n",
       "\t7876 & giambja01 & 1999 & 1 & OAK & AL & 158 & 158 & 575 & 115 & 181 & ... &  8 & 11 & 158 & 0.3147826 & 0.4215827 & 111 & 186.229565 & OAK & AL &  2103333\\\\\n",
       "\t7877 & giambja01 & 2000 & 1 & OAK & AL & 152 & 152 & 510 & 108 & 170 & ... &  8 &  9 & 152 & 0.3333333 & 0.4759036 &  97 & 158.337255 & OAK & AL &  3103333\\\\\n",
       "\t7878 & giambja01 & 2001 & 1 & OAK & AL & 154 & 154 & 520 & 109 & 178 & ... &  9 & 17 & 154 & 0.3423077 & 0.4769001 &  91 & 191.292308 & OAK & AL &  4103333\\\\\n",
       "\t7879 & giambja01 & 2002 & 1 & NYA & AL & 155 & 155 & 560 & 120 & 176 & ... &  5 & 18 & 155 & 0.3142857 & 0.4354136 & 100 & 171.292857 & NYA & AL & 10428571\\\\\n",
       "\t7880 & giambja01 & 2003 & 1 & NYA & AL & 156 & 156 & 535 &  97 & 134 & ... &  5 &  9 & 156 & 0.2504673 & 0.4115942 &  68 & 118.306542 & NYA & AL & 11428571\\\\\n",
       "\t7881 & giambja01 & 2004 & 1 & NYA & AL &  80 &  80 & 264 &  33 &  55 & ... &  3 &  5 &  80 & 0.2083333 & 0.3416149 &  34 &  52.181818 & NYA & AL & 12428571\\\\\n",
       "\t7882 & giambja01 & 2005 & 1 & NYA & AL & 139 & 139 & 417 &  74 & 113 & ... &  1 &  7 & 139 & 0.2709832 & 0.4403670 &  67 &  95.306954 & NYA & AL & 13428571\\\\\n",
       "\t7883 & giambja01 & 2006 & 1 & NYA & AL & 139 & 139 & 446 &  92 & 113 & ... &  7 & 10 & 139 & 0.2533632 & 0.4127807 &  51 & 101.331839 & NYA & AL & 20428571\\\\\n",
       "\t7884 & giambja01 & 2007 & 1 & NYA & AL &  83 &  83 & 254 &  31 &  60 & ... &  1 &  1 &  83 & 0.2362205 & 0.3564356 &  38 &  54.220472 & NYA & AL & 23428571\\\\\n",
       "\t7885 & giambja01 & 2008 & 1 & NYA & AL & 145 & 145 & 458 &  68 & 113 & ... &  9 &  6 & 145 & 0.2467249 & 0.3734513 &  61 & 102.279476 & NYA & AL & 23428571\\\\\n",
       "\t7886 & giambja01 & 2009 & 1 & OAK & AL &  83 &  83 & 269 &  39 &  52 & ... &  2 &  6 &  NA & 0.1933086 & 0.3323171 &  28 &  54.163569 & OAK & AL &  4000000\\\\\n",
       "\t7887 & giambja01 & 2009 & 2 & COL & NL &  19 &  19 &  24 &   4 &   7 & ... &  0 &  0 &  NA & 0.2916667 & 0.4516129 &   4 &   6.333333 & OAK & AL &  4000000\\\\\n",
       "\t7888 & giambja01 & 2010 & 1 & COL & NL &  87 &  87 & 176 &  17 &  43 & ... &  5 &  5 &  NA & 0.2443182 & 0.3783784 &  28 &  46.136364 & COL & NL &  1750000\\\\\n",
       "\t7889 & giambja01 & 2011 & 1 & COL & NL &  64 &  64 & 131 &  20 &  34 & ... &  1 &  1 &  64 & 0.2595420 & 0.3552632 &  15 &  27.396947 & COL & NL &  1000000\\\\\n",
       "\t7890 & giambja01 & 2012 & 1 & COL & NL &  60 &  NA &  89 &   7 &  20 & ... &  2 &  4 &  NA & 0.2247191 & 0.3716814 &  15 &  23.044944 & COL & NL &  1000000\\\\\n",
       "\t7891 & giambja01 & 2013 & 1 & CLE & AL &  71 &  71 & 186 &  21 &  34 & ... &  3 &  8 &  NA & 0.1827957 & 0.2824074 &  17 &  33.193548 & CLE & AL &   750000\\\\\n",
       "\t20112 & saenzol01 & 1999 & 1 & OAK & AL &  97 &  97 & 255 &  41 &  70 & ... &  3 &  6 &  97 & 0.2745098 & 0.3627119 &  41 &  77.172549 & OAK & AL &   240000\\\\\n",
       "\t20113 & saenzol01 & 2000 & 1 & OAK & AL &  76 &  76 & 214 &  40 &  67 & ... &  1 &  6 &  76 & 0.3130841 & 0.4008097 &  44 &  74.168224 & OAK & AL &   260000\\\\\n",
       "\t20114 & saenzol01 & 2001 & 1 & OAK & AL & 106 & 106 & 305 &  33 &  67 & ... &  3 &  9 & 106 & 0.2196721 & 0.2911765 &  36 &  81.118033 & OAK & AL &   290000\\\\\n",
       "\t20115 & saenzol01 & 2002 & 1 & OAK & AL &  68 &  68 & 156 &  15 &  43 & ... &  2 &  2 &  68 & 0.2756410 & 0.3539326 &  26 &  49.153846 & OAK & AL &   800000\\\\\n",
       "\t20116 & saenzol01 & 2005 & 1 & LAN & NL & 109 & 109 & 319 &  39 &  84 & ... &  2 & 12 & 109 & 0.2633229 & 0.3247863 &  45 &  93.188088 & LAN & NL &   650000\\\\\n",
       "\t20117 & saenzol01 & 2006 & 1 & LAN & NL & 103 & 103 & 179 &  30 &  53 & ... &  4 &  4 & 103 & 0.2960894 & 0.3627451 &  27 &  57.245810 & LAN & NL &  1000000\\\\\n",
       "\t20118 & saenzol01 & 2007 & 1 & LAN & NL &  92 &  92 & 110 &   9 &  21 & ... &  4 &  5 &  92 & 0.1909091 & 0.2954545 &  12 &  22.145455 & LAN & NL &  1000000\\\\\n",
       "\\end{tabular}\n"
      ],
      "text/markdown": [
       "\n",
       "A data.frame: 44 × 31\n",
       "\n",
       "| <!--/--> | playerID &lt;chr&gt; | yearID &lt;int&gt; | stint &lt;int&gt; | teamID.x &lt;chr&gt; | lgID.x &lt;chr&gt; | G &lt;int&gt; | G_batting &lt;int&gt; | AB &lt;int&gt; | R &lt;int&gt; | H &lt;int&gt; | ... ... | SF &lt;int&gt; | GIDP &lt;int&gt; | G_old &lt;int&gt; | BA &lt;dbl&gt; | OBP &lt;dbl&gt; | X1B &lt;int&gt; | SLG &lt;dbl&gt; | teamID.y &lt;chr&gt; | lgID.y &lt;chr&gt; | salary &lt;int&gt; |\n",
       "|---|---|---|---|---|---|---|---|---|---|---|---|---|---|---|---|---|---|---|---|---|---|\n",
       "| 5135 | damonjo01 | 1995 | 1 | KCA | AL |  47 |  47 | 188 |  32 |  53 | ... |  3 |  2 |  47 | 0.2819149 | 0.3235294 |  34 |  71.063830 | KCA | AL |   109000 |\n",
       "| 5136 | damonjo01 | 1996 | 1 | KCA | AL | 145 | 145 | 517 |  61 | 140 | ... |  5 |  4 | 145 | 0.2707930 | 0.3129496 | 107 | 166.046422 | KCA | AL |   180000 |\n",
       "| 5137 | damonjo01 | 1997 | 1 | KCA | AL | 146 | 146 | 472 |  70 | 130 | ... |  1 |  3 | 146 | 0.2754237 | 0.3378378 | 102 | 150.067797 | KCA | AL |   240000 |\n",
       "| 5138 | damonjo01 | 1998 | 1 | KCA | AL | 161 | 161 | 642 | 104 | 178 | ... |  3 |  4 | 161 | 0.2772586 | 0.3394625 | 120 | 210.112150 | KCA | AL |   460000 |\n",
       "| 5139 | damonjo01 | 1999 | 1 | KCA | AL | 145 | 145 | 583 | 101 | 179 | ... |  4 | 13 | 145 | 0.3070326 | 0.3789954 | 117 | 222.096055 | KCA | AL |  2100000 |\n",
       "| 5140 | damonjo01 | 2000 | 1 | KCA | AL | 159 | 159 | 655 | 136 | 214 | ... | 12 |  7 | 159 | 0.3267176 | 0.3819918 | 146 | 260.097710 | KCA | AL |  4000000 |\n",
       "| 5141 | damonjo01 | 2001 | 1 | OAK | AL | 155 | 155 | 644 | 108 | 165 | ... |  4 |  7 | 155 | 0.2562112 | 0.3235294 | 118 | 198.055901 | OAK | AL |  7100000 |\n",
       "| 5142 | damonjo01 | 2002 | 1 | BOS | AL | 154 | 154 | 623 | 118 | 178 | ... |  5 |  4 | 154 | 0.2857143 | 0.3562232 | 119 | 220.089888 | BOS | AL |  7250000 |\n",
       "| 5143 | damonjo01 | 2003 | 1 | BOS | AL | 145 | 145 | 608 | 103 | 166 | ... |  6 |  5 | 145 | 0.2730263 | 0.3450292 | 116 | 198.078947 | BOS | AL |  7500000 |\n",
       "| 5144 | damonjo01 | 2004 | 1 | BOS | AL | 150 | 150 | 621 | 123 | 189 | ... |  3 |  8 | 150 | 0.3043478 | 0.3803419 | 128 | 216.128824 | BOS | AL |  8000000 |\n",
       "| 5145 | damonjo01 | 2005 | 1 | BOS | AL | 148 | 148 | 624 | 117 | 197 | ... |  9 |  5 | 148 | 0.3157051 | 0.3662791 | 146 | 234.064103 | BOS | AL |  8250000 |\n",
       "| 5146 | damonjo01 | 2006 | 1 | NYA | AL | 149 | 149 | 593 | 115 | 169 | ... |  5 |  4 | 149 | 0.2849916 | 0.3587444 | 105 | 190.161889 | NYA | AL | 13000000 |\n",
       "| 5147 | damonjo01 | 2007 | 1 | NYA | AL | 141 | 141 | 533 |  93 | 144 | ... |  3 |  4 | 141 | 0.2701689 | 0.3509934 | 103 | 163.090056 | NYA | AL | 13000000 |\n",
       "| 5148 | damonjo01 | 2008 | 1 | NYA | AL | 143 | 143 | 555 |  95 | 168 | ... |  1 |  5 | 143 | 0.3027027 | 0.3752013 | 119 | 188.122523 | NYA | AL | 13000000 |\n",
       "| 5149 | damonjo01 | 2009 | 1 | NYA | AL | 143 | 143 | 550 | 107 | 155 | ... |  1 |  9 |  NA | 0.2818182 | 0.3653846 |  92 | 173.174545 | NYA | AL | 13000000 |\n",
       "| 5150 | damonjo01 | 2010 | 1 | DET | AL | 145 | 145 | 539 |  81 | 146 | ... |  1 |  5 |  NA | 0.2708720 | 0.3551555 |  97 | 184.059369 | DET | AL |  8000000 |\n",
       "| 5151 | damonjo01 | 2011 | 1 | TBA | AL | 150 | 150 | 582 |  79 | 152 | ... |  5 |  4 | 150 | 0.2611684 | 0.3255814 | 100 | 179.109966 | TBA | AL |  5250000 |\n",
       "| 7872 | giambja01 | 1995 | 1 | OAK | AL |  54 |  54 | 176 |  27 |  45 | ... |  2 |  4 |  54 | 0.2556818 | 0.3636364 |  32 |  46.136364 | OAK | AL |   109000 |\n",
       "| 7873 | giambja01 | 1996 | 1 | OAK | AL | 140 | 140 | 536 |  84 | 156 | ... |  5 | 15 | 140 | 0.2910448 | 0.3551089 |  95 | 178.149254 | OAK | AL |   120000 |\n",
       "| 7874 | giambja01 | 1997 | 1 | OAK | AL | 142 | 142 | 519 |  66 | 152 | ... |  8 | 11 | 142 | 0.2928709 | 0.3622449 |  89 | 177.154143 | OAK | AL |   205000 |\n",
       "| 7875 | giambja01 | 1998 | 1 | OAK | AL | 153 | 153 | 562 |  92 | 166 | ... |  9 | 16 | 153 | 0.2953737 | 0.3835616 | 111 | 167.192171 | OAK | AL |   315000 |\n",
       "| 7876 | giambja01 | 1999 | 1 | OAK | AL | 158 | 158 | 575 | 115 | 181 | ... |  8 | 11 | 158 | 0.3147826 | 0.4215827 | 111 | 186.229565 | OAK | AL |  2103333 |\n",
       "| 7877 | giambja01 | 2000 | 1 | OAK | AL | 152 | 152 | 510 | 108 | 170 | ... |  8 |  9 | 152 | 0.3333333 | 0.4759036 |  97 | 158.337255 | OAK | AL |  3103333 |\n",
       "| 7878 | giambja01 | 2001 | 1 | OAK | AL | 154 | 154 | 520 | 109 | 178 | ... |  9 | 17 | 154 | 0.3423077 | 0.4769001 |  91 | 191.292308 | OAK | AL |  4103333 |\n",
       "| 7879 | giambja01 | 2002 | 1 | NYA | AL | 155 | 155 | 560 | 120 | 176 | ... |  5 | 18 | 155 | 0.3142857 | 0.4354136 | 100 | 171.292857 | NYA | AL | 10428571 |\n",
       "| 7880 | giambja01 | 2003 | 1 | NYA | AL | 156 | 156 | 535 |  97 | 134 | ... |  5 |  9 | 156 | 0.2504673 | 0.4115942 |  68 | 118.306542 | NYA | AL | 11428571 |\n",
       "| 7881 | giambja01 | 2004 | 1 | NYA | AL |  80 |  80 | 264 |  33 |  55 | ... |  3 |  5 |  80 | 0.2083333 | 0.3416149 |  34 |  52.181818 | NYA | AL | 12428571 |\n",
       "| 7882 | giambja01 | 2005 | 1 | NYA | AL | 139 | 139 | 417 |  74 | 113 | ... |  1 |  7 | 139 | 0.2709832 | 0.4403670 |  67 |  95.306954 | NYA | AL | 13428571 |\n",
       "| 7883 | giambja01 | 2006 | 1 | NYA | AL | 139 | 139 | 446 |  92 | 113 | ... |  7 | 10 | 139 | 0.2533632 | 0.4127807 |  51 | 101.331839 | NYA | AL | 20428571 |\n",
       "| 7884 | giambja01 | 2007 | 1 | NYA | AL |  83 |  83 | 254 |  31 |  60 | ... |  1 |  1 |  83 | 0.2362205 | 0.3564356 |  38 |  54.220472 | NYA | AL | 23428571 |\n",
       "| 7885 | giambja01 | 2008 | 1 | NYA | AL | 145 | 145 | 458 |  68 | 113 | ... |  9 |  6 | 145 | 0.2467249 | 0.3734513 |  61 | 102.279476 | NYA | AL | 23428571 |\n",
       "| 7886 | giambja01 | 2009 | 1 | OAK | AL |  83 |  83 | 269 |  39 |  52 | ... |  2 |  6 |  NA | 0.1933086 | 0.3323171 |  28 |  54.163569 | OAK | AL |  4000000 |\n",
       "| 7887 | giambja01 | 2009 | 2 | COL | NL |  19 |  19 |  24 |   4 |   7 | ... |  0 |  0 |  NA | 0.2916667 | 0.4516129 |   4 |   6.333333 | OAK | AL |  4000000 |\n",
       "| 7888 | giambja01 | 2010 | 1 | COL | NL |  87 |  87 | 176 |  17 |  43 | ... |  5 |  5 |  NA | 0.2443182 | 0.3783784 |  28 |  46.136364 | COL | NL |  1750000 |\n",
       "| 7889 | giambja01 | 2011 | 1 | COL | NL |  64 |  64 | 131 |  20 |  34 | ... |  1 |  1 |  64 | 0.2595420 | 0.3552632 |  15 |  27.396947 | COL | NL |  1000000 |\n",
       "| 7890 | giambja01 | 2012 | 1 | COL | NL |  60 |  NA |  89 |   7 |  20 | ... |  2 |  4 |  NA | 0.2247191 | 0.3716814 |  15 |  23.044944 | COL | NL |  1000000 |\n",
       "| 7891 | giambja01 | 2013 | 1 | CLE | AL |  71 |  71 | 186 |  21 |  34 | ... |  3 |  8 |  NA | 0.1827957 | 0.2824074 |  17 |  33.193548 | CLE | AL |   750000 |\n",
       "| 20112 | saenzol01 | 1999 | 1 | OAK | AL |  97 |  97 | 255 |  41 |  70 | ... |  3 |  6 |  97 | 0.2745098 | 0.3627119 |  41 |  77.172549 | OAK | AL |   240000 |\n",
       "| 20113 | saenzol01 | 2000 | 1 | OAK | AL |  76 |  76 | 214 |  40 |  67 | ... |  1 |  6 |  76 | 0.3130841 | 0.4008097 |  44 |  74.168224 | OAK | AL |   260000 |\n",
       "| 20114 | saenzol01 | 2001 | 1 | OAK | AL | 106 | 106 | 305 |  33 |  67 | ... |  3 |  9 | 106 | 0.2196721 | 0.2911765 |  36 |  81.118033 | OAK | AL |   290000 |\n",
       "| 20115 | saenzol01 | 2002 | 1 | OAK | AL |  68 |  68 | 156 |  15 |  43 | ... |  2 |  2 |  68 | 0.2756410 | 0.3539326 |  26 |  49.153846 | OAK | AL |   800000 |\n",
       "| 20116 | saenzol01 | 2005 | 1 | LAN | NL | 109 | 109 | 319 |  39 |  84 | ... |  2 | 12 | 109 | 0.2633229 | 0.3247863 |  45 |  93.188088 | LAN | NL |   650000 |\n",
       "| 20117 | saenzol01 | 2006 | 1 | LAN | NL | 103 | 103 | 179 |  30 |  53 | ... |  4 |  4 | 103 | 0.2960894 | 0.3627451 |  27 |  57.245810 | LAN | NL |  1000000 |\n",
       "| 20118 | saenzol01 | 2007 | 1 | LAN | NL |  92 |  92 | 110 |   9 |  21 | ... |  4 |  5 |  92 | 0.1909091 | 0.2954545 |  12 |  22.145455 | LAN | NL |  1000000 |\n",
       "\n"
      ],
      "text/plain": [
       "      playerID  yearID stint teamID.x lgID.x G   G_batting AB  R   H   ... SF\n",
       "5135  damonjo01 1995   1     KCA      AL      47  47       188  32  53 ...  3\n",
       "5136  damonjo01 1996   1     KCA      AL     145 145       517  61 140 ...  5\n",
       "5137  damonjo01 1997   1     KCA      AL     146 146       472  70 130 ...  1\n",
       "5138  damonjo01 1998   1     KCA      AL     161 161       642 104 178 ...  3\n",
       "5139  damonjo01 1999   1     KCA      AL     145 145       583 101 179 ...  4\n",
       "5140  damonjo01 2000   1     KCA      AL     159 159       655 136 214 ... 12\n",
       "5141  damonjo01 2001   1     OAK      AL     155 155       644 108 165 ...  4\n",
       "5142  damonjo01 2002   1     BOS      AL     154 154       623 118 178 ...  5\n",
       "5143  damonjo01 2003   1     BOS      AL     145 145       608 103 166 ...  6\n",
       "5144  damonjo01 2004   1     BOS      AL     150 150       621 123 189 ...  3\n",
       "5145  damonjo01 2005   1     BOS      AL     148 148       624 117 197 ...  9\n",
       "5146  damonjo01 2006   1     NYA      AL     149 149       593 115 169 ...  5\n",
       "5147  damonjo01 2007   1     NYA      AL     141 141       533  93 144 ...  3\n",
       "5148  damonjo01 2008   1     NYA      AL     143 143       555  95 168 ...  1\n",
       "5149  damonjo01 2009   1     NYA      AL     143 143       550 107 155 ...  1\n",
       "5150  damonjo01 2010   1     DET      AL     145 145       539  81 146 ...  1\n",
       "5151  damonjo01 2011   1     TBA      AL     150 150       582  79 152 ...  5\n",
       "7872  giambja01 1995   1     OAK      AL      54  54       176  27  45 ...  2\n",
       "7873  giambja01 1996   1     OAK      AL     140 140       536  84 156 ...  5\n",
       "7874  giambja01 1997   1     OAK      AL     142 142       519  66 152 ...  8\n",
       "7875  giambja01 1998   1     OAK      AL     153 153       562  92 166 ...  9\n",
       "7876  giambja01 1999   1     OAK      AL     158 158       575 115 181 ...  8\n",
       "7877  giambja01 2000   1     OAK      AL     152 152       510 108 170 ...  8\n",
       "7878  giambja01 2001   1     OAK      AL     154 154       520 109 178 ...  9\n",
       "7879  giambja01 2002   1     NYA      AL     155 155       560 120 176 ...  5\n",
       "7880  giambja01 2003   1     NYA      AL     156 156       535  97 134 ...  5\n",
       "7881  giambja01 2004   1     NYA      AL      80  80       264  33  55 ...  3\n",
       "7882  giambja01 2005   1     NYA      AL     139 139       417  74 113 ...  1\n",
       "7883  giambja01 2006   1     NYA      AL     139 139       446  92 113 ...  7\n",
       "7884  giambja01 2007   1     NYA      AL      83  83       254  31  60 ...  1\n",
       "7885  giambja01 2008   1     NYA      AL     145 145       458  68 113 ...  9\n",
       "7886  giambja01 2009   1     OAK      AL      83  83       269  39  52 ...  2\n",
       "7887  giambja01 2009   2     COL      NL      19  19        24   4   7 ...  0\n",
       "7888  giambja01 2010   1     COL      NL      87  87       176  17  43 ...  5\n",
       "7889  giambja01 2011   1     COL      NL      64  64       131  20  34 ...  1\n",
       "7890  giambja01 2012   1     COL      NL      60  NA        89   7  20 ...  2\n",
       "7891  giambja01 2013   1     CLE      AL      71  71       186  21  34 ...  3\n",
       "20112 saenzol01 1999   1     OAK      AL      97  97       255  41  70 ...  3\n",
       "20113 saenzol01 2000   1     OAK      AL      76  76       214  40  67 ...  1\n",
       "20114 saenzol01 2001   1     OAK      AL     106 106       305  33  67 ...  3\n",
       "20115 saenzol01 2002   1     OAK      AL      68  68       156  15  43 ...  2\n",
       "20116 saenzol01 2005   1     LAN      NL     109 109       319  39  84 ...  2\n",
       "20117 saenzol01 2006   1     LAN      NL     103 103       179  30  53 ...  4\n",
       "20118 saenzol01 2007   1     LAN      NL      92  92       110   9  21 ...  4\n",
       "      GIDP G_old BA        OBP       X1B SLG        teamID.y lgID.y salary  \n",
       "5135   2    47   0.2819149 0.3235294  34  71.063830 KCA      AL       109000\n",
       "5136   4   145   0.2707930 0.3129496 107 166.046422 KCA      AL       180000\n",
       "5137   3   146   0.2754237 0.3378378 102 150.067797 KCA      AL       240000\n",
       "5138   4   161   0.2772586 0.3394625 120 210.112150 KCA      AL       460000\n",
       "5139  13   145   0.3070326 0.3789954 117 222.096055 KCA      AL      2100000\n",
       "5140   7   159   0.3267176 0.3819918 146 260.097710 KCA      AL      4000000\n",
       "5141   7   155   0.2562112 0.3235294 118 198.055901 OAK      AL      7100000\n",
       "5142   4   154   0.2857143 0.3562232 119 220.089888 BOS      AL      7250000\n",
       "5143   5   145   0.2730263 0.3450292 116 198.078947 BOS      AL      7500000\n",
       "5144   8   150   0.3043478 0.3803419 128 216.128824 BOS      AL      8000000\n",
       "5145   5   148   0.3157051 0.3662791 146 234.064103 BOS      AL      8250000\n",
       "5146   4   149   0.2849916 0.3587444 105 190.161889 NYA      AL     13000000\n",
       "5147   4   141   0.2701689 0.3509934 103 163.090056 NYA      AL     13000000\n",
       "5148   5   143   0.3027027 0.3752013 119 188.122523 NYA      AL     13000000\n",
       "5149   9    NA   0.2818182 0.3653846  92 173.174545 NYA      AL     13000000\n",
       "5150   5    NA   0.2708720 0.3551555  97 184.059369 DET      AL      8000000\n",
       "5151   4   150   0.2611684 0.3255814 100 179.109966 TBA      AL      5250000\n",
       "7872   4    54   0.2556818 0.3636364  32  46.136364 OAK      AL       109000\n",
       "7873  15   140   0.2910448 0.3551089  95 178.149254 OAK      AL       120000\n",
       "7874  11   142   0.2928709 0.3622449  89 177.154143 OAK      AL       205000\n",
       "7875  16   153   0.2953737 0.3835616 111 167.192171 OAK      AL       315000\n",
       "7876  11   158   0.3147826 0.4215827 111 186.229565 OAK      AL      2103333\n",
       "7877   9   152   0.3333333 0.4759036  97 158.337255 OAK      AL      3103333\n",
       "7878  17   154   0.3423077 0.4769001  91 191.292308 OAK      AL      4103333\n",
       "7879  18   155   0.3142857 0.4354136 100 171.292857 NYA      AL     10428571\n",
       "7880   9   156   0.2504673 0.4115942  68 118.306542 NYA      AL     11428571\n",
       "7881   5    80   0.2083333 0.3416149  34  52.181818 NYA      AL     12428571\n",
       "7882   7   139   0.2709832 0.4403670  67  95.306954 NYA      AL     13428571\n",
       "7883  10   139   0.2533632 0.4127807  51 101.331839 NYA      AL     20428571\n",
       "7884   1    83   0.2362205 0.3564356  38  54.220472 NYA      AL     23428571\n",
       "7885   6   145   0.2467249 0.3734513  61 102.279476 NYA      AL     23428571\n",
       "7886   6    NA   0.1933086 0.3323171  28  54.163569 OAK      AL      4000000\n",
       "7887   0    NA   0.2916667 0.4516129   4   6.333333 OAK      AL      4000000\n",
       "7888   5    NA   0.2443182 0.3783784  28  46.136364 COL      NL      1750000\n",
       "7889   1    64   0.2595420 0.3552632  15  27.396947 COL      NL      1000000\n",
       "7890   4    NA   0.2247191 0.3716814  15  23.044944 COL      NL      1000000\n",
       "7891   8    NA   0.1827957 0.2824074  17  33.193548 CLE      AL       750000\n",
       "20112  6    97   0.2745098 0.3627119  41  77.172549 OAK      AL       240000\n",
       "20113  6    76   0.3130841 0.4008097  44  74.168224 OAK      AL       260000\n",
       "20114  9   106   0.2196721 0.2911765  36  81.118033 OAK      AL       290000\n",
       "20115  2    68   0.2756410 0.3539326  26  49.153846 OAK      AL       800000\n",
       "20116 12   109   0.2633229 0.3247863  45  93.188088 LAN      NL       650000\n",
       "20117  4   103   0.2960894 0.3627451  27  57.245810 LAN      NL      1000000\n",
       "20118  5    92   0.1909091 0.2954545  12  22.145455 LAN      NL      1000000"
      ]
     },
     "metadata": {},
     "output_type": "display_data"
    }
   ],
   "source": [
    "# Retreive data for 3 Ex-players\n",
    "\n",
    "lost_players <- subset(combo, playerID %in% c('giambja01', 'damonjo01', 'saenzol01'))\n",
    "\n",
    "lost_players"
   ]
  },
  {
   "cell_type": "markdown",
   "metadata": {},
   "source": [
    "Since all these players were lost in after 2001 in the offseason, let's only concern ourselves with the data from 2001."
   ]
  },
  {
   "cell_type": "code",
   "execution_count": 16,
   "metadata": {},
   "outputs": [
    {
     "data": {
      "text/html": [
       "<table class=\"dataframe\">\n",
       "<caption>A data.frame: 3 × 31</caption>\n",
       "<thead>\n",
       "\t<tr><th></th><th scope=col>playerID</th><th scope=col>yearID</th><th scope=col>stint</th><th scope=col>teamID.x</th><th scope=col>lgID.x</th><th scope=col>G</th><th scope=col>G_batting</th><th scope=col>AB</th><th scope=col>R</th><th scope=col>H</th><th scope=col>...</th><th scope=col>SF</th><th scope=col>GIDP</th><th scope=col>G_old</th><th scope=col>BA</th><th scope=col>OBP</th><th scope=col>X1B</th><th scope=col>SLG</th><th scope=col>teamID.y</th><th scope=col>lgID.y</th><th scope=col>salary</th></tr>\n",
       "\t<tr><th></th><th scope=col>&lt;chr&gt;</th><th scope=col>&lt;int&gt;</th><th scope=col>&lt;int&gt;</th><th scope=col>&lt;chr&gt;</th><th scope=col>&lt;chr&gt;</th><th scope=col>&lt;int&gt;</th><th scope=col>&lt;int&gt;</th><th scope=col>&lt;int&gt;</th><th scope=col>&lt;int&gt;</th><th scope=col>&lt;int&gt;</th><th scope=col>...</th><th scope=col>&lt;int&gt;</th><th scope=col>&lt;int&gt;</th><th scope=col>&lt;int&gt;</th><th scope=col>&lt;dbl&gt;</th><th scope=col>&lt;dbl&gt;</th><th scope=col>&lt;int&gt;</th><th scope=col>&lt;dbl&gt;</th><th scope=col>&lt;chr&gt;</th><th scope=col>&lt;chr&gt;</th><th scope=col>&lt;int&gt;</th></tr>\n",
       "</thead>\n",
       "<tbody>\n",
       "\t<tr><th scope=row>5141</th><td>damonjo01</td><td>2001</td><td>1</td><td>OAK</td><td>AL</td><td>155</td><td>155</td><td>644</td><td>108</td><td>165</td><td>...</td><td>4</td><td> 7</td><td>155</td><td>0.2562112</td><td>0.3235294</td><td>118</td><td>198.05590</td><td>OAK</td><td>AL</td><td>7100000</td></tr>\n",
       "\t<tr><th scope=row>7878</th><td>giambja01</td><td>2001</td><td>1</td><td>OAK</td><td>AL</td><td>154</td><td>154</td><td>520</td><td>109</td><td>178</td><td>...</td><td>9</td><td>17</td><td>154</td><td>0.3423077</td><td>0.4769001</td><td> 91</td><td>191.29231</td><td>OAK</td><td>AL</td><td>4103333</td></tr>\n",
       "\t<tr><th scope=row>20114</th><td>saenzol01</td><td>2001</td><td>1</td><td>OAK</td><td>AL</td><td>106</td><td>106</td><td>305</td><td> 33</td><td> 67</td><td>...</td><td>3</td><td> 9</td><td>106</td><td>0.2196721</td><td>0.2911765</td><td> 36</td><td> 81.11803</td><td>OAK</td><td>AL</td><td> 290000</td></tr>\n",
       "</tbody>\n",
       "</table>\n"
      ],
      "text/latex": [
       "A data.frame: 3 × 31\n",
       "\\begin{tabular}{r|lllllllllllllllllllll}\n",
       "  & playerID & yearID & stint & teamID.x & lgID.x & G & G\\_batting & AB & R & H & ... & SF & GIDP & G\\_old & BA & OBP & X1B & SLG & teamID.y & lgID.y & salary\\\\\n",
       "  & <chr> & <int> & <int> & <chr> & <chr> & <int> & <int> & <int> & <int> & <int> & ... & <int> & <int> & <int> & <dbl> & <dbl> & <int> & <dbl> & <chr> & <chr> & <int>\\\\\n",
       "\\hline\n",
       "\t5141 & damonjo01 & 2001 & 1 & OAK & AL & 155 & 155 & 644 & 108 & 165 & ... & 4 &  7 & 155 & 0.2562112 & 0.3235294 & 118 & 198.05590 & OAK & AL & 7100000\\\\\n",
       "\t7878 & giambja01 & 2001 & 1 & OAK & AL & 154 & 154 & 520 & 109 & 178 & ... & 9 & 17 & 154 & 0.3423077 & 0.4769001 &  91 & 191.29231 & OAK & AL & 4103333\\\\\n",
       "\t20114 & saenzol01 & 2001 & 1 & OAK & AL & 106 & 106 & 305 &  33 &  67 & ... & 3 &  9 & 106 & 0.2196721 & 0.2911765 &  36 &  81.11803 & OAK & AL &  290000\\\\\n",
       "\\end{tabular}\n"
      ],
      "text/markdown": [
       "\n",
       "A data.frame: 3 × 31\n",
       "\n",
       "| <!--/--> | playerID &lt;chr&gt; | yearID &lt;int&gt; | stint &lt;int&gt; | teamID.x &lt;chr&gt; | lgID.x &lt;chr&gt; | G &lt;int&gt; | G_batting &lt;int&gt; | AB &lt;int&gt; | R &lt;int&gt; | H &lt;int&gt; | ... ... | SF &lt;int&gt; | GIDP &lt;int&gt; | G_old &lt;int&gt; | BA &lt;dbl&gt; | OBP &lt;dbl&gt; | X1B &lt;int&gt; | SLG &lt;dbl&gt; | teamID.y &lt;chr&gt; | lgID.y &lt;chr&gt; | salary &lt;int&gt; |\n",
       "|---|---|---|---|---|---|---|---|---|---|---|---|---|---|---|---|---|---|---|---|---|---|\n",
       "| 5141 | damonjo01 | 2001 | 1 | OAK | AL | 155 | 155 | 644 | 108 | 165 | ... | 4 |  7 | 155 | 0.2562112 | 0.3235294 | 118 | 198.05590 | OAK | AL | 7100000 |\n",
       "| 7878 | giambja01 | 2001 | 1 | OAK | AL | 154 | 154 | 520 | 109 | 178 | ... | 9 | 17 | 154 | 0.3423077 | 0.4769001 |  91 | 191.29231 | OAK | AL | 4103333 |\n",
       "| 20114 | saenzol01 | 2001 | 1 | OAK | AL | 106 | 106 | 305 |  33 |  67 | ... | 3 |  9 | 106 | 0.2196721 | 0.2911765 |  36 |  81.11803 | OAK | AL |  290000 |\n",
       "\n"
      ],
      "text/plain": [
       "      playerID  yearID stint teamID.x lgID.x G   G_batting AB  R   H   ... SF\n",
       "5141  damonjo01 2001   1     OAK      AL     155 155       644 108 165 ... 4 \n",
       "7878  giambja01 2001   1     OAK      AL     154 154       520 109 178 ... 9 \n",
       "20114 saenzol01 2001   1     OAK      AL     106 106       305  33  67 ... 3 \n",
       "      GIDP G_old BA        OBP       X1B SLG       teamID.y lgID.y salary \n",
       "5141   7   155   0.2562112 0.3235294 118 198.05590 OAK      AL     7100000\n",
       "7878  17   154   0.3423077 0.4769001  91 191.29231 OAK      AL     4103333\n",
       "20114  9   106   0.2196721 0.2911765  36  81.11803 OAK      AL      290000"
      ]
     },
     "metadata": {},
     "output_type": "display_data"
    }
   ],
   "source": [
    "lost_players_after_2001 <- subset(lost_players, yearID == 2001)\n",
    "\n",
    "lost_players_after_2001"
   ]
  },
  {
   "cell_type": "code",
   "execution_count": 17,
   "metadata": {},
   "outputs": [
    {
     "data": {
      "text/html": [
       "<table class=\"dataframe\">\n",
       "<caption>A data.frame: 3 × 10</caption>\n",
       "<thead>\n",
       "\t<tr><th></th><th scope=col>playerID</th><th scope=col>H</th><th scope=col>X2B</th><th scope=col>X3B</th><th scope=col>HR</th><th scope=col>OBP</th><th scope=col>SLG</th><th scope=col>BA</th><th scope=col>AB</th><th scope=col>salary</th></tr>\n",
       "\t<tr><th></th><th scope=col>&lt;chr&gt;</th><th scope=col>&lt;int&gt;</th><th scope=col>&lt;int&gt;</th><th scope=col>&lt;int&gt;</th><th scope=col>&lt;int&gt;</th><th scope=col>&lt;dbl&gt;</th><th scope=col>&lt;dbl&gt;</th><th scope=col>&lt;dbl&gt;</th><th scope=col>&lt;int&gt;</th><th scope=col>&lt;int&gt;</th></tr>\n",
       "</thead>\n",
       "<tbody>\n",
       "\t<tr><th scope=row>5141</th><td>damonjo01</td><td>165</td><td>34</td><td>4</td><td> 9</td><td>0.3235294</td><td>198.05590</td><td>0.2562112</td><td>644</td><td>7100000</td></tr>\n",
       "\t<tr><th scope=row>7878</th><td>giambja01</td><td>178</td><td>47</td><td>2</td><td>38</td><td>0.4769001</td><td>191.29231</td><td>0.3423077</td><td>520</td><td>4103333</td></tr>\n",
       "\t<tr><th scope=row>20114</th><td>saenzol01</td><td> 67</td><td>21</td><td>1</td><td> 9</td><td>0.2911765</td><td> 81.11803</td><td>0.2196721</td><td>305</td><td> 290000</td></tr>\n",
       "</tbody>\n",
       "</table>\n"
      ],
      "text/latex": [
       "A data.frame: 3 × 10\n",
       "\\begin{tabular}{r|llllllllll}\n",
       "  & playerID & H & X2B & X3B & HR & OBP & SLG & BA & AB & salary\\\\\n",
       "  & <chr> & <int> & <int> & <int> & <int> & <dbl> & <dbl> & <dbl> & <int> & <int>\\\\\n",
       "\\hline\n",
       "\t5141 & damonjo01 & 165 & 34 & 4 &  9 & 0.3235294 & 198.05590 & 0.2562112 & 644 & 7100000\\\\\n",
       "\t7878 & giambja01 & 178 & 47 & 2 & 38 & 0.4769001 & 191.29231 & 0.3423077 & 520 & 4103333\\\\\n",
       "\t20114 & saenzol01 &  67 & 21 & 1 &  9 & 0.2911765 &  81.11803 & 0.2196721 & 305 &  290000\\\\\n",
       "\\end{tabular}\n"
      ],
      "text/markdown": [
       "\n",
       "A data.frame: 3 × 10\n",
       "\n",
       "| <!--/--> | playerID &lt;chr&gt; | H &lt;int&gt; | X2B &lt;int&gt; | X3B &lt;int&gt; | HR &lt;int&gt; | OBP &lt;dbl&gt; | SLG &lt;dbl&gt; | BA &lt;dbl&gt; | AB &lt;int&gt; | salary &lt;int&gt; |\n",
       "|---|---|---|---|---|---|---|---|---|---|---|\n",
       "| 5141 | damonjo01 | 165 | 34 | 4 |  9 | 0.3235294 | 198.05590 | 0.2562112 | 644 | 7100000 |\n",
       "| 7878 | giambja01 | 178 | 47 | 2 | 38 | 0.4769001 | 191.29231 | 0.3423077 | 520 | 4103333 |\n",
       "| 20114 | saenzol01 |  67 | 21 | 1 |  9 | 0.2911765 |  81.11803 | 0.2196721 | 305 |  290000 |\n",
       "\n"
      ],
      "text/plain": [
       "      playerID  H   X2B X3B HR OBP       SLG       BA        AB  salary \n",
       "5141  damonjo01 165 34  4    9 0.3235294 198.05590 0.2562112 644 7100000\n",
       "7878  giambja01 178 47  2   38 0.4769001 191.29231 0.3423077 520 4103333\n",
       "20114 saenzol01  67 21  1    9 0.2911765  81.11803 0.2196721 305  290000"
      ]
     },
     "metadata": {},
     "output_type": "display_data"
    }
   ],
   "source": [
    "# Reduce df to the following columns: playerID,H,X2B,X3B,HR,OBP,SLG,BA,AB and salary\n",
    "\n",
    "lost_players_after_2001 <- lost_players_after_2001[c(\"playerID\", \"H\", \"X2B\", \"X3B\", \"HR\", \"OBP\", \"SLG\", \"BA\", \"AB\", \"salary\")]\n",
    "\n",
    "lost_players_after_2001"
   ]
  },
  {
   "cell_type": "markdown",
   "metadata": {},
   "source": [
    "# Replacement Players\n",
    "Now we have all the information we need! Our goal is to ind Replacement Players for the key three players we lost! However, we have three constraints:\n",
    "\n",
    "* The `total combined salary` of the three players can `not exceed 15 million dollars`.\n",
    "* Their `combined number of At Bats (AB)` needs to be `equal to or greater` than the lost players.\n",
    "* Their `mean OBP` had to `equal to or greater` than the mean OBP of the lost players"
   ]
  },
  {
   "cell_type": "code",
   "execution_count": 22,
   "metadata": {},
   "outputs": [
    {
     "name": "stderr",
     "output_type": "stream",
     "text": [
      "Warning message:\n",
      "\"Removed 168 rows containing missing values (geom_point).\"\n"
     ]
    },
    {
     "data": {
      "image/png": "[encoded data removed]",
      "text/plain": [
       "plot without title"
      ]
     },
     "metadata": {
      "image/png": {
       "height": 420,
       "width": 420
      }
     },
     "output_type": "display_data"
    }
   ],
   "source": [
    "# Replacement Players\n",
    "\n",
    "combo_2021 <- subset(combo, yearID == 2001)\n",
    "combo_2021 <- combo_2021[c(\"playerID\", \"H\", \"X2B\", \"X3B\", \"HR\", \"OBP\", \"SLG\", \"BA\", \"AB\", \"salary\")]\n",
    "#head(combo_2021)\n",
    "\n",
    "pl <- ggplot(combo_2021, aes(x = OBP,y = salary, color = AB)) + \n",
    "                          geom_point(size = 2, alpha = 0.5) + \n",
    "                          scale_color_gradient(high = \"green\", low = \"red\")\n",
    "\n",
    "pointsToLabel <- c('giambja01', 'damonjo01', 'saenzol01')\n",
    "\n",
    "pl <- pl + geom_text(aes(label = playerID), color = \"black\",\n",
    "                       data = subset(combo_2021, playerID %in% pointsToLabel), check_overlap = TRUE)\n",
    "\n",
    "\n",
    "pl <- pl + xlab(\"On Base Percentage (OBP)\") + \n",
    "  ylab(\"Salary\") + \n",
    "  ggtitle(\"Dependence of Salary and OBP\") +\n",
    "  scale_x_continuous(limits = c(0, max(combo_2021$OBP + 0.1), breaks = seq(0, 1, 0.1)) + \n",
    "  scale_y_continuous(limits = c(0, max(combo_2021$salary) + 250000), breaks = seq(0, 22500000, 1000000))) \n",
    "  \n",
    "pl\n",
    "\n",
    "#gpl <- ggplotly(pl)\n",
    "  \n",
    "#gpl"
   ]
  },
  {
   "cell_type": "markdown",
   "metadata": {},
   "source": [
    "#### Looks like there is no point in paying above 5 million or so (I'm just eyeballing this number). I'll choose that as a cutt off point. There are also a lot of players with OBP==0. Let's get rid of them too."
   ]
  },
  {
   "cell_type": "code",
   "execution_count": 23,
   "metadata": {},
   "outputs": [
    {
     "data": {
      "text/html": [
       "<table class=\"dataframe\">\n",
       "<caption>A data.frame: 20 × 10</caption>\n",
       "<thead>\n",
       "\t<tr><th scope=col>playerID</th><th scope=col>H</th><th scope=col>X2B</th><th scope=col>X3B</th><th scope=col>HR</th><th scope=col>OBP</th><th scope=col>SLG</th><th scope=col>BA</th><th scope=col>AB</th><th scope=col>salary</th></tr>\n",
       "\t<tr><th scope=col>&lt;chr&gt;</th><th scope=col>&lt;int&gt;</th><th scope=col>&lt;int&gt;</th><th scope=col>&lt;int&gt;</th><th scope=col>&lt;int&gt;</th><th scope=col>&lt;dbl&gt;</th><th scope=col>&lt;dbl&gt;</th><th scope=col>&lt;dbl&gt;</th><th scope=col>&lt;int&gt;</th><th scope=col>&lt;int&gt;</th></tr>\n",
       "</thead>\n",
       "<tbody>\n",
       "\t<tr><td>giambja01</td><td>178</td><td>47</td><td> 2</td><td>38</td><td>0.4769001</td><td>191.2923</td><td>0.3423077</td><td>520</td><td>4103333</td></tr>\n",
       "\t<tr><td>heltoto01</td><td>197</td><td>54</td><td> 2</td><td>49</td><td>0.4316547</td><td>206.3339</td><td>0.3356048</td><td>587</td><td>4950000</td></tr>\n",
       "\t<tr><td>berkmla01</td><td>191</td><td>55</td><td> 5</td><td>34</td><td>0.4302326</td><td>222.2357</td><td>0.3310225</td><td>577</td><td> 305000</td></tr>\n",
       "\t<tr><td>gonzalu01</td><td>198</td><td>36</td><td> 7</td><td>57</td><td>0.4285714</td><td>191.3744</td><td>0.3251232</td><td>609</td><td>4833333</td></tr>\n",
       "\t<tr><td>pujolal01</td><td>194</td><td>47</td><td> 4</td><td>37</td><td>0.4029630</td><td>212.2508</td><td>0.3288136</td><td>590</td><td> 200000</td></tr>\n",
       "\t<tr><td>abreubo01</td><td>170</td><td>48</td><td> 4</td><td>31</td><td>0.3934659</td><td>195.2109</td><td>0.2891156</td><td>588</td><td>4983000</td></tr>\n",
       "\t<tr><td>nevinph01</td><td>167</td><td>31</td><td> 0</td><td>41</td><td>0.3878205</td><td>157.3004</td><td>0.3058608</td><td>546</td><td>1625000</td></tr>\n",
       "\t<tr><td>mientdo01</td><td>166</td><td>39</td><td> 1</td><td>15</td><td>0.3865815</td><td>192.1105</td><td>0.3057090</td><td>543</td><td> 215000</td></tr>\n",
       "\t<tr><td>coninje01</td><td>163</td><td>23</td><td> 2</td><td>14</td><td>0.3860233</td><td>176.1069</td><td>0.3110687</td><td>524</td><td>3000000</td></tr>\n",
       "\t<tr><td>ordonma01</td><td>181</td><td>40</td><td> 1</td><td>31</td><td>0.3815201</td><td>192.2091</td><td>0.3052277</td><td>593</td><td>3750000</td></tr>\n",
       "\t<tr><td>pierrju01</td><td>202</td><td>26</td><td>11</td><td> 2</td><td>0.3781764</td><td>248.0130</td><td>0.3273906</td><td>617</td><td> 215000</td></tr>\n",
       "\t<tr><td>nixontr01</td><td>150</td><td>31</td><td> 4</td><td>27</td><td>0.3763955</td><td>162.2019</td><td>0.2803738</td><td>535</td><td> 390000</td></tr>\n",
       "\t<tr><td>sweenmi01</td><td>170</td><td>46</td><td> 0</td><td>29</td><td>0.3740095</td><td>187.2075</td><td>0.3041145</td><td>559</td><td>5000000</td></tr>\n",
       "\t<tr><td>grievbe01</td><td>143</td><td>30</td><td> 2</td><td>11</td><td>0.3724570</td><td>166.0812</td><td>0.2638376</td><td>542</td><td>2750000</td></tr>\n",
       "\t<tr><td>boonebr01</td><td>206</td><td>37</td><td> 3</td><td>37</td><td>0.3722628</td><td>212.2376</td><td>0.3306581</td><td>623</td><td>3250000</td></tr>\n",
       "\t<tr><td>stewash01</td><td>202</td><td>44</td><td> 7</td><td>12</td><td>0.3710602</td><td>248.0750</td><td>0.3156250</td><td>640</td><td>2183333</td></tr>\n",
       "\t<tr><td>caseyse01</td><td>165</td><td>40</td><td> 0</td><td>13</td><td>0.3690476</td><td>192.0976</td><td>0.3095685</td><td>533</td><td>3000000</td></tr>\n",
       "\t<tr><td>aurilri01</td><td>206</td><td>37</td><td> 5</td><td>37</td><td>0.3688047</td><td>216.2327</td><td>0.3238994</td><td>636</td><td>3250000</td></tr>\n",
       "\t<tr><td>glaustr01</td><td>147</td><td>38</td><td> 2</td><td>41</td><td>0.3672316</td><td>148.2789</td><td>0.2500000</td><td>588</td><td>1250000</td></tr>\n",
       "\t<tr><td>cirilje01</td><td>165</td><td>26</td><td> 4</td><td>17</td><td>0.3641026</td><td>182.1288</td><td>0.3125000</td><td>528</td><td>4850000</td></tr>\n",
       "</tbody>\n",
       "</table>\n"
      ],
      "text/latex": [
       "A data.frame: 20 × 10\n",
       "\\begin{tabular}{llllllllll}\n",
       " playerID & H & X2B & X3B & HR & OBP & SLG & BA & AB & salary\\\\\n",
       " <chr> & <int> & <int> & <int> & <int> & <dbl> & <dbl> & <dbl> & <int> & <int>\\\\\n",
       "\\hline\n",
       "\t giambja01 & 178 & 47 &  2 & 38 & 0.4769001 & 191.2923 & 0.3423077 & 520 & 4103333\\\\\n",
       "\t heltoto01 & 197 & 54 &  2 & 49 & 0.4316547 & 206.3339 & 0.3356048 & 587 & 4950000\\\\\n",
       "\t berkmla01 & 191 & 55 &  5 & 34 & 0.4302326 & 222.2357 & 0.3310225 & 577 &  305000\\\\\n",
       "\t gonzalu01 & 198 & 36 &  7 & 57 & 0.4285714 & 191.3744 & 0.3251232 & 609 & 4833333\\\\\n",
       "\t pujolal01 & 194 & 47 &  4 & 37 & 0.4029630 & 212.2508 & 0.3288136 & 590 &  200000\\\\\n",
       "\t abreubo01 & 170 & 48 &  4 & 31 & 0.3934659 & 195.2109 & 0.2891156 & 588 & 4983000\\\\\n",
       "\t nevinph01 & 167 & 31 &  0 & 41 & 0.3878205 & 157.3004 & 0.3058608 & 546 & 1625000\\\\\n",
       "\t mientdo01 & 166 & 39 &  1 & 15 & 0.3865815 & 192.1105 & 0.3057090 & 543 &  215000\\\\\n",
       "\t coninje01 & 163 & 23 &  2 & 14 & 0.3860233 & 176.1069 & 0.3110687 & 524 & 3000000\\\\\n",
       "\t ordonma01 & 181 & 40 &  1 & 31 & 0.3815201 & 192.2091 & 0.3052277 & 593 & 3750000\\\\\n",
       "\t pierrju01 & 202 & 26 & 11 &  2 & 0.3781764 & 248.0130 & 0.3273906 & 617 &  215000\\\\\n",
       "\t nixontr01 & 150 & 31 &  4 & 27 & 0.3763955 & 162.2019 & 0.2803738 & 535 &  390000\\\\\n",
       "\t sweenmi01 & 170 & 46 &  0 & 29 & 0.3740095 & 187.2075 & 0.3041145 & 559 & 5000000\\\\\n",
       "\t grievbe01 & 143 & 30 &  2 & 11 & 0.3724570 & 166.0812 & 0.2638376 & 542 & 2750000\\\\\n",
       "\t boonebr01 & 206 & 37 &  3 & 37 & 0.3722628 & 212.2376 & 0.3306581 & 623 & 3250000\\\\\n",
       "\t stewash01 & 202 & 44 &  7 & 12 & 0.3710602 & 248.0750 & 0.3156250 & 640 & 2183333\\\\\n",
       "\t caseyse01 & 165 & 40 &  0 & 13 & 0.3690476 & 192.0976 & 0.3095685 & 533 & 3000000\\\\\n",
       "\t aurilri01 & 206 & 37 &  5 & 37 & 0.3688047 & 216.2327 & 0.3238994 & 636 & 3250000\\\\\n",
       "\t glaustr01 & 147 & 38 &  2 & 41 & 0.3672316 & 148.2789 & 0.2500000 & 588 & 1250000\\\\\n",
       "\t cirilje01 & 165 & 26 &  4 & 17 & 0.3641026 & 182.1288 & 0.3125000 & 528 & 4850000\\\\\n",
       "\\end{tabular}\n"
      ],
      "text/markdown": [
       "\n",
       "A data.frame: 20 × 10\n",
       "\n",
       "| playerID &lt;chr&gt; | H &lt;int&gt; | X2B &lt;int&gt; | X3B &lt;int&gt; | HR &lt;int&gt; | OBP &lt;dbl&gt; | SLG &lt;dbl&gt; | BA &lt;dbl&gt; | AB &lt;int&gt; | salary &lt;int&gt; |\n",
       "|---|---|---|---|---|---|---|---|---|---|\n",
       "| giambja01 | 178 | 47 |  2 | 38 | 0.4769001 | 191.2923 | 0.3423077 | 520 | 4103333 |\n",
       "| heltoto01 | 197 | 54 |  2 | 49 | 0.4316547 | 206.3339 | 0.3356048 | 587 | 4950000 |\n",
       "| berkmla01 | 191 | 55 |  5 | 34 | 0.4302326 | 222.2357 | 0.3310225 | 577 |  305000 |\n",
       "| gonzalu01 | 198 | 36 |  7 | 57 | 0.4285714 | 191.3744 | 0.3251232 | 609 | 4833333 |\n",
       "| pujolal01 | 194 | 47 |  4 | 37 | 0.4029630 | 212.2508 | 0.3288136 | 590 |  200000 |\n",
       "| abreubo01 | 170 | 48 |  4 | 31 | 0.3934659 | 195.2109 | 0.2891156 | 588 | 4983000 |\n",
       "| nevinph01 | 167 | 31 |  0 | 41 | 0.3878205 | 157.3004 | 0.3058608 | 546 | 1625000 |\n",
       "| mientdo01 | 166 | 39 |  1 | 15 | 0.3865815 | 192.1105 | 0.3057090 | 543 |  215000 |\n",
       "| coninje01 | 163 | 23 |  2 | 14 | 0.3860233 | 176.1069 | 0.3110687 | 524 | 3000000 |\n",
       "| ordonma01 | 181 | 40 |  1 | 31 | 0.3815201 | 192.2091 | 0.3052277 | 593 | 3750000 |\n",
       "| pierrju01 | 202 | 26 | 11 |  2 | 0.3781764 | 248.0130 | 0.3273906 | 617 |  215000 |\n",
       "| nixontr01 | 150 | 31 |  4 | 27 | 0.3763955 | 162.2019 | 0.2803738 | 535 |  390000 |\n",
       "| sweenmi01 | 170 | 46 |  0 | 29 | 0.3740095 | 187.2075 | 0.3041145 | 559 | 5000000 |\n",
       "| grievbe01 | 143 | 30 |  2 | 11 | 0.3724570 | 166.0812 | 0.2638376 | 542 | 2750000 |\n",
       "| boonebr01 | 206 | 37 |  3 | 37 | 0.3722628 | 212.2376 | 0.3306581 | 623 | 3250000 |\n",
       "| stewash01 | 202 | 44 |  7 | 12 | 0.3710602 | 248.0750 | 0.3156250 | 640 | 2183333 |\n",
       "| caseyse01 | 165 | 40 |  0 | 13 | 0.3690476 | 192.0976 | 0.3095685 | 533 | 3000000 |\n",
       "| aurilri01 | 206 | 37 |  5 | 37 | 0.3688047 | 216.2327 | 0.3238994 | 636 | 3250000 |\n",
       "| glaustr01 | 147 | 38 |  2 | 41 | 0.3672316 | 148.2789 | 0.2500000 | 588 | 1250000 |\n",
       "| cirilje01 | 165 | 26 |  4 | 17 | 0.3641026 | 182.1288 | 0.3125000 | 528 | 4850000 |\n",
       "\n"
      ],
      "text/plain": [
       "   playerID  H   X2B X3B HR OBP       SLG      BA        AB  salary \n",
       "1  giambja01 178 47   2  38 0.4769001 191.2923 0.3423077 520 4103333\n",
       "2  heltoto01 197 54   2  49 0.4316547 206.3339 0.3356048 587 4950000\n",
       "3  berkmla01 191 55   5  34 0.4302326 222.2357 0.3310225 577  305000\n",
       "4  gonzalu01 198 36   7  57 0.4285714 191.3744 0.3251232 609 4833333\n",
       "5  pujolal01 194 47   4  37 0.4029630 212.2508 0.3288136 590  200000\n",
       "6  abreubo01 170 48   4  31 0.3934659 195.2109 0.2891156 588 4983000\n",
       "7  nevinph01 167 31   0  41 0.3878205 157.3004 0.3058608 546 1625000\n",
       "8  mientdo01 166 39   1  15 0.3865815 192.1105 0.3057090 543  215000\n",
       "9  coninje01 163 23   2  14 0.3860233 176.1069 0.3110687 524 3000000\n",
       "10 ordonma01 181 40   1  31 0.3815201 192.2091 0.3052277 593 3750000\n",
       "11 pierrju01 202 26  11   2 0.3781764 248.0130 0.3273906 617  215000\n",
       "12 nixontr01 150 31   4  27 0.3763955 162.2019 0.2803738 535  390000\n",
       "13 sweenmi01 170 46   0  29 0.3740095 187.2075 0.3041145 559 5000000\n",
       "14 grievbe01 143 30   2  11 0.3724570 166.0812 0.2638376 542 2750000\n",
       "15 boonebr01 206 37   3  37 0.3722628 212.2376 0.3306581 623 3250000\n",
       "16 stewash01 202 44   7  12 0.3710602 248.0750 0.3156250 640 2183333\n",
       "17 caseyse01 165 40   0  13 0.3690476 192.0976 0.3095685 533 3000000\n",
       "18 aurilri01 206 37   5  37 0.3688047 216.2327 0.3238994 636 3250000\n",
       "19 glaustr01 147 38   2  41 0.3672316 148.2789 0.2500000 588 1250000\n",
       "20 cirilje01 165 26   4  17 0.3641026 182.1288 0.3125000 528 4850000"
      ]
     },
     "metadata": {},
     "output_type": "display_data"
    }
   ],
   "source": [
    "# Let's limit players by asked criteria\n",
    "\n",
    "\n",
    "limited_combo_2021 <- combo_2021 %>% \n",
    "                      filter(AB >= sum(lost_players_after_2001$AB)/length(lost_players_after_2001$AB), \n",
    "                      OBP >= mean(lost_players_after_2001$OBP), \n",
    "                      salary <= 15000000/length(lost_players_after_2001$salary)) %>% \n",
    "                      arrange(desc(OBP))\n",
    "\n",
    "limited_combo_2021"
   ]
  },
  {
   "cell_type": "code",
   "execution_count": 24,
   "metadata": {},
   "outputs": [
    {
     "data": {
      "text/html": [
       "<table class=\"dataframe\">\n",
       "<caption>A data.frame: 19 × 10</caption>\n",
       "<thead>\n",
       "\t<tr><th scope=col>playerID</th><th scope=col>H</th><th scope=col>X2B</th><th scope=col>X3B</th><th scope=col>HR</th><th scope=col>OBP</th><th scope=col>SLG</th><th scope=col>BA</th><th scope=col>AB</th><th scope=col>salary</th></tr>\n",
       "\t<tr><th scope=col>&lt;chr&gt;</th><th scope=col>&lt;int&gt;</th><th scope=col>&lt;int&gt;</th><th scope=col>&lt;int&gt;</th><th scope=col>&lt;int&gt;</th><th scope=col>&lt;dbl&gt;</th><th scope=col>&lt;dbl&gt;</th><th scope=col>&lt;dbl&gt;</th><th scope=col>&lt;int&gt;</th><th scope=col>&lt;int&gt;</th></tr>\n",
       "</thead>\n",
       "<tbody>\n",
       "\t<tr><td>heltoto01</td><td>197</td><td>54</td><td> 2</td><td>49</td><td>0.4316547</td><td>206.3339</td><td>0.3356048</td><td>587</td><td>4950000</td></tr>\n",
       "\t<tr><td>berkmla01</td><td>191</td><td>55</td><td> 5</td><td>34</td><td>0.4302326</td><td>222.2357</td><td>0.3310225</td><td>577</td><td> 305000</td></tr>\n",
       "\t<tr><td>gonzalu01</td><td>198</td><td>36</td><td> 7</td><td>57</td><td>0.4285714</td><td>191.3744</td><td>0.3251232</td><td>609</td><td>4833333</td></tr>\n",
       "\t<tr><td>pujolal01</td><td>194</td><td>47</td><td> 4</td><td>37</td><td>0.4029630</td><td>212.2508</td><td>0.3288136</td><td>590</td><td> 200000</td></tr>\n",
       "\t<tr><td>abreubo01</td><td>170</td><td>48</td><td> 4</td><td>31</td><td>0.3934659</td><td>195.2109</td><td>0.2891156</td><td>588</td><td>4983000</td></tr>\n",
       "\t<tr><td>nevinph01</td><td>167</td><td>31</td><td> 0</td><td>41</td><td>0.3878205</td><td>157.3004</td><td>0.3058608</td><td>546</td><td>1625000</td></tr>\n",
       "\t<tr><td>mientdo01</td><td>166</td><td>39</td><td> 1</td><td>15</td><td>0.3865815</td><td>192.1105</td><td>0.3057090</td><td>543</td><td> 215000</td></tr>\n",
       "\t<tr><td>coninje01</td><td>163</td><td>23</td><td> 2</td><td>14</td><td>0.3860233</td><td>176.1069</td><td>0.3110687</td><td>524</td><td>3000000</td></tr>\n",
       "\t<tr><td>ordonma01</td><td>181</td><td>40</td><td> 1</td><td>31</td><td>0.3815201</td><td>192.2091</td><td>0.3052277</td><td>593</td><td>3750000</td></tr>\n",
       "\t<tr><td>pierrju01</td><td>202</td><td>26</td><td>11</td><td> 2</td><td>0.3781764</td><td>248.0130</td><td>0.3273906</td><td>617</td><td> 215000</td></tr>\n",
       "\t<tr><td>nixontr01</td><td>150</td><td>31</td><td> 4</td><td>27</td><td>0.3763955</td><td>162.2019</td><td>0.2803738</td><td>535</td><td> 390000</td></tr>\n",
       "\t<tr><td>sweenmi01</td><td>170</td><td>46</td><td> 0</td><td>29</td><td>0.3740095</td><td>187.2075</td><td>0.3041145</td><td>559</td><td>5000000</td></tr>\n",
       "\t<tr><td>grievbe01</td><td>143</td><td>30</td><td> 2</td><td>11</td><td>0.3724570</td><td>166.0812</td><td>0.2638376</td><td>542</td><td>2750000</td></tr>\n",
       "\t<tr><td>boonebr01</td><td>206</td><td>37</td><td> 3</td><td>37</td><td>0.3722628</td><td>212.2376</td><td>0.3306581</td><td>623</td><td>3250000</td></tr>\n",
       "\t<tr><td>stewash01</td><td>202</td><td>44</td><td> 7</td><td>12</td><td>0.3710602</td><td>248.0750</td><td>0.3156250</td><td>640</td><td>2183333</td></tr>\n",
       "\t<tr><td>caseyse01</td><td>165</td><td>40</td><td> 0</td><td>13</td><td>0.3690476</td><td>192.0976</td><td>0.3095685</td><td>533</td><td>3000000</td></tr>\n",
       "\t<tr><td>aurilri01</td><td>206</td><td>37</td><td> 5</td><td>37</td><td>0.3688047</td><td>216.2327</td><td>0.3238994</td><td>636</td><td>3250000</td></tr>\n",
       "\t<tr><td>glaustr01</td><td>147</td><td>38</td><td> 2</td><td>41</td><td>0.3672316</td><td>148.2789</td><td>0.2500000</td><td>588</td><td>1250000</td></tr>\n",
       "\t<tr><td>cirilje01</td><td>165</td><td>26</td><td> 4</td><td>17</td><td>0.3641026</td><td>182.1288</td><td>0.3125000</td><td>528</td><td>4850000</td></tr>\n",
       "</tbody>\n",
       "</table>\n"
      ],
      "text/latex": [
       "A data.frame: 19 × 10\n",
       "\\begin{tabular}{llllllllll}\n",
       " playerID & H & X2B & X3B & HR & OBP & SLG & BA & AB & salary\\\\\n",
       " <chr> & <int> & <int> & <int> & <int> & <dbl> & <dbl> & <dbl> & <int> & <int>\\\\\n",
       "\\hline\n",
       "\t heltoto01 & 197 & 54 &  2 & 49 & 0.4316547 & 206.3339 & 0.3356048 & 587 & 4950000\\\\\n",
       "\t berkmla01 & 191 & 55 &  5 & 34 & 0.4302326 & 222.2357 & 0.3310225 & 577 &  305000\\\\\n",
       "\t gonzalu01 & 198 & 36 &  7 & 57 & 0.4285714 & 191.3744 & 0.3251232 & 609 & 4833333\\\\\n",
       "\t pujolal01 & 194 & 47 &  4 & 37 & 0.4029630 & 212.2508 & 0.3288136 & 590 &  200000\\\\\n",
       "\t abreubo01 & 170 & 48 &  4 & 31 & 0.3934659 & 195.2109 & 0.2891156 & 588 & 4983000\\\\\n",
       "\t nevinph01 & 167 & 31 &  0 & 41 & 0.3878205 & 157.3004 & 0.3058608 & 546 & 1625000\\\\\n",
       "\t mientdo01 & 166 & 39 &  1 & 15 & 0.3865815 & 192.1105 & 0.3057090 & 543 &  215000\\\\\n",
       "\t coninje01 & 163 & 23 &  2 & 14 & 0.3860233 & 176.1069 & 0.3110687 & 524 & 3000000\\\\\n",
       "\t ordonma01 & 181 & 40 &  1 & 31 & 0.3815201 & 192.2091 & 0.3052277 & 593 & 3750000\\\\\n",
       "\t pierrju01 & 202 & 26 & 11 &  2 & 0.3781764 & 248.0130 & 0.3273906 & 617 &  215000\\\\\n",
       "\t nixontr01 & 150 & 31 &  4 & 27 & 0.3763955 & 162.2019 & 0.2803738 & 535 &  390000\\\\\n",
       "\t sweenmi01 & 170 & 46 &  0 & 29 & 0.3740095 & 187.2075 & 0.3041145 & 559 & 5000000\\\\\n",
       "\t grievbe01 & 143 & 30 &  2 & 11 & 0.3724570 & 166.0812 & 0.2638376 & 542 & 2750000\\\\\n",
       "\t boonebr01 & 206 & 37 &  3 & 37 & 0.3722628 & 212.2376 & 0.3306581 & 623 & 3250000\\\\\n",
       "\t stewash01 & 202 & 44 &  7 & 12 & 0.3710602 & 248.0750 & 0.3156250 & 640 & 2183333\\\\\n",
       "\t caseyse01 & 165 & 40 &  0 & 13 & 0.3690476 & 192.0976 & 0.3095685 & 533 & 3000000\\\\\n",
       "\t aurilri01 & 206 & 37 &  5 & 37 & 0.3688047 & 216.2327 & 0.3238994 & 636 & 3250000\\\\\n",
       "\t glaustr01 & 147 & 38 &  2 & 41 & 0.3672316 & 148.2789 & 0.2500000 & 588 & 1250000\\\\\n",
       "\t cirilje01 & 165 & 26 &  4 & 17 & 0.3641026 & 182.1288 & 0.3125000 & 528 & 4850000\\\\\n",
       "\\end{tabular}\n"
      ],
      "text/markdown": [
       "\n",
       "A data.frame: 19 × 10\n",
       "\n",
       "| playerID &lt;chr&gt; | H &lt;int&gt; | X2B &lt;int&gt; | X3B &lt;int&gt; | HR &lt;int&gt; | OBP &lt;dbl&gt; | SLG &lt;dbl&gt; | BA &lt;dbl&gt; | AB &lt;int&gt; | salary &lt;int&gt; |\n",
       "|---|---|---|---|---|---|---|---|---|---|\n",
       "| heltoto01 | 197 | 54 |  2 | 49 | 0.4316547 | 206.3339 | 0.3356048 | 587 | 4950000 |\n",
       "| berkmla01 | 191 | 55 |  5 | 34 | 0.4302326 | 222.2357 | 0.3310225 | 577 |  305000 |\n",
       "| gonzalu01 | 198 | 36 |  7 | 57 | 0.4285714 | 191.3744 | 0.3251232 | 609 | 4833333 |\n",
       "| pujolal01 | 194 | 47 |  4 | 37 | 0.4029630 | 212.2508 | 0.3288136 | 590 |  200000 |\n",
       "| abreubo01 | 170 | 48 |  4 | 31 | 0.3934659 | 195.2109 | 0.2891156 | 588 | 4983000 |\n",
       "| nevinph01 | 167 | 31 |  0 | 41 | 0.3878205 | 157.3004 | 0.3058608 | 546 | 1625000 |\n",
       "| mientdo01 | 166 | 39 |  1 | 15 | 0.3865815 | 192.1105 | 0.3057090 | 543 |  215000 |\n",
       "| coninje01 | 163 | 23 |  2 | 14 | 0.3860233 | 176.1069 | 0.3110687 | 524 | 3000000 |\n",
       "| ordonma01 | 181 | 40 |  1 | 31 | 0.3815201 | 192.2091 | 0.3052277 | 593 | 3750000 |\n",
       "| pierrju01 | 202 | 26 | 11 |  2 | 0.3781764 | 248.0130 | 0.3273906 | 617 |  215000 |\n",
       "| nixontr01 | 150 | 31 |  4 | 27 | 0.3763955 | 162.2019 | 0.2803738 | 535 |  390000 |\n",
       "| sweenmi01 | 170 | 46 |  0 | 29 | 0.3740095 | 187.2075 | 0.3041145 | 559 | 5000000 |\n",
       "| grievbe01 | 143 | 30 |  2 | 11 | 0.3724570 | 166.0812 | 0.2638376 | 542 | 2750000 |\n",
       "| boonebr01 | 206 | 37 |  3 | 37 | 0.3722628 | 212.2376 | 0.3306581 | 623 | 3250000 |\n",
       "| stewash01 | 202 | 44 |  7 | 12 | 0.3710602 | 248.0750 | 0.3156250 | 640 | 2183333 |\n",
       "| caseyse01 | 165 | 40 |  0 | 13 | 0.3690476 | 192.0976 | 0.3095685 | 533 | 3000000 |\n",
       "| aurilri01 | 206 | 37 |  5 | 37 | 0.3688047 | 216.2327 | 0.3238994 | 636 | 3250000 |\n",
       "| glaustr01 | 147 | 38 |  2 | 41 | 0.3672316 | 148.2789 | 0.2500000 | 588 | 1250000 |\n",
       "| cirilje01 | 165 | 26 |  4 | 17 | 0.3641026 | 182.1288 | 0.3125000 | 528 | 4850000 |\n",
       "\n"
      ],
      "text/plain": [
       "   playerID  H   X2B X3B HR OBP       SLG      BA        AB  salary \n",
       "1  heltoto01 197 54   2  49 0.4316547 206.3339 0.3356048 587 4950000\n",
       "2  berkmla01 191 55   5  34 0.4302326 222.2357 0.3310225 577  305000\n",
       "3  gonzalu01 198 36   7  57 0.4285714 191.3744 0.3251232 609 4833333\n",
       "4  pujolal01 194 47   4  37 0.4029630 212.2508 0.3288136 590  200000\n",
       "5  abreubo01 170 48   4  31 0.3934659 195.2109 0.2891156 588 4983000\n",
       "6  nevinph01 167 31   0  41 0.3878205 157.3004 0.3058608 546 1625000\n",
       "7  mientdo01 166 39   1  15 0.3865815 192.1105 0.3057090 543  215000\n",
       "8  coninje01 163 23   2  14 0.3860233 176.1069 0.3110687 524 3000000\n",
       "9  ordonma01 181 40   1  31 0.3815201 192.2091 0.3052277 593 3750000\n",
       "10 pierrju01 202 26  11   2 0.3781764 248.0130 0.3273906 617  215000\n",
       "11 nixontr01 150 31   4  27 0.3763955 162.2019 0.2803738 535  390000\n",
       "12 sweenmi01 170 46   0  29 0.3740095 187.2075 0.3041145 559 5000000\n",
       "13 grievbe01 143 30   2  11 0.3724570 166.0812 0.2638376 542 2750000\n",
       "14 boonebr01 206 37   3  37 0.3722628 212.2376 0.3306581 623 3250000\n",
       "15 stewash01 202 44   7  12 0.3710602 248.0750 0.3156250 640 2183333\n",
       "16 caseyse01 165 40   0  13 0.3690476 192.0976 0.3095685 533 3000000\n",
       "17 aurilri01 206 37   5  37 0.3688047 216.2327 0.3238994 636 3250000\n",
       "18 glaustr01 147 38   2  41 0.3672316 148.2789 0.2500000 588 1250000\n",
       "19 cirilje01 165 26   4  17 0.3641026 182.1288 0.3125000 528 4850000"
      ]
     },
     "metadata": {},
     "output_type": "display_data"
    }
   ],
   "source": [
    "# Remove our ex-players\n",
    "\n",
    "limited_combo_2021 <- filter(limited_combo_2021,!(playerID %in% c('giambja01', 'damonjo01', 'saenzol01')))\n",
    "\n",
    "limited_combo_2021"
   ]
  },
  {
   "cell_type": "markdown",
   "metadata": {},
   "source": [
    "### There are 19 players that can be great substitution for our ex-players\n",
    "\n",
    "Let's visualize them as well"
   ]
  },
  {
   "cell_type": "code",
   "execution_count": 25,
   "metadata": {},
   "outputs": [
    {
     "data": {
      "image/png": "[encoded data removed]",
      "text/plain": [
       "plot without title"
      ]
     },
     "metadata": {
      "image/png": {
       "height": 420,
       "width": 420
      }
     },
     "output_type": "display_data"
    }
   ],
   "source": [
    "# Plot filtered data\n",
    "\n",
    "final_pl <- ggplot(limited_combo_2021, aes(x = OBP,y = salary, color = AB)) + \n",
    "  geom_point(size = 5, alpha = 0.75) + \n",
    "  scale_color_gradient(high = \"green\", low = \"red\")\n",
    "\n",
    "\n",
    "final_pl <- final_pl + geom_text(aes(label = playerID), color = \"black\",\n",
    "                     data = limited_combo_2021, check_overlap = TRUE)\n",
    "\n",
    "\n",
    "final_pl <- final_pl + xlab(\"On Base Percentage (OBP)\") + \n",
    "  ylab(\"Salary\") + \n",
    "  ggtitle(\"Dependence of Salary and OBP (Similar to Ex-players\") +\n",
    "  scale_x_continuous(limits = c(0, max(limited_combo_2021$OBP + 0.1), breaks = seq(0, 1, 0.1)) + \n",
    "  scale_y_continuous(limits = c(0, max(limited_combo_2021$salary) + 500000), breaks = seq(0, max(limited_combo_2021$salary), 100000))) \n",
    "\n",
    "final_pl\n",
    "\n",
    "# final_gpl <- ggplotly(final_pl)\n",
    "\n",
    "# final_gpl"
   ]
  },
  {
   "cell_type": "code",
   "execution_count": 26,
   "metadata": {},
   "outputs": [
    {
     "data": {
      "text/html": [
       "<table class=\"dataframe\">\n",
       "<caption>A data.frame: 3 × 10</caption>\n",
       "<thead>\n",
       "\t<tr><th></th><th scope=col>playerID</th><th scope=col>H</th><th scope=col>X2B</th><th scope=col>X3B</th><th scope=col>HR</th><th scope=col>OBP</th><th scope=col>SLG</th><th scope=col>BA</th><th scope=col>AB</th><th scope=col>salary</th></tr>\n",
       "\t<tr><th></th><th scope=col>&lt;chr&gt;</th><th scope=col>&lt;int&gt;</th><th scope=col>&lt;int&gt;</th><th scope=col>&lt;int&gt;</th><th scope=col>&lt;int&gt;</th><th scope=col>&lt;dbl&gt;</th><th scope=col>&lt;dbl&gt;</th><th scope=col>&lt;dbl&gt;</th><th scope=col>&lt;int&gt;</th><th scope=col>&lt;int&gt;</th></tr>\n",
       "</thead>\n",
       "<tbody>\n",
       "\t<tr><th scope=row>1</th><td>pujolal01</td><td>194</td><td>47</td><td> 4</td><td>37</td><td>0.4029630</td><td>212.2508</td><td>0.3288136</td><td>590</td><td>200000</td></tr>\n",
       "\t<tr><th scope=row>2</th><td>mientdo01</td><td>166</td><td>39</td><td> 1</td><td>15</td><td>0.3865815</td><td>192.1105</td><td>0.3057090</td><td>543</td><td>215000</td></tr>\n",
       "\t<tr><th scope=row>3</th><td>pierrju01</td><td>202</td><td>26</td><td>11</td><td> 2</td><td>0.3781764</td><td>248.0130</td><td>0.3273906</td><td>617</td><td>215000</td></tr>\n",
       "</tbody>\n",
       "</table>\n"
      ],
      "text/latex": [
       "A data.frame: 3 × 10\n",
       "\\begin{tabular}{r|llllllllll}\n",
       "  & playerID & H & X2B & X3B & HR & OBP & SLG & BA & AB & salary\\\\\n",
       "  & <chr> & <int> & <int> & <int> & <int> & <dbl> & <dbl> & <dbl> & <int> & <int>\\\\\n",
       "\\hline\n",
       "\t1 & pujolal01 & 194 & 47 &  4 & 37 & 0.4029630 & 212.2508 & 0.3288136 & 590 & 200000\\\\\n",
       "\t2 & mientdo01 & 166 & 39 &  1 & 15 & 0.3865815 & 192.1105 & 0.3057090 & 543 & 215000\\\\\n",
       "\t3 & pierrju01 & 202 & 26 & 11 &  2 & 0.3781764 & 248.0130 & 0.3273906 & 617 & 215000\\\\\n",
       "\\end{tabular}\n"
      ],
      "text/markdown": [
       "\n",
       "A data.frame: 3 × 10\n",
       "\n",
       "| <!--/--> | playerID &lt;chr&gt; | H &lt;int&gt; | X2B &lt;int&gt; | X3B &lt;int&gt; | HR &lt;int&gt; | OBP &lt;dbl&gt; | SLG &lt;dbl&gt; | BA &lt;dbl&gt; | AB &lt;int&gt; | salary &lt;int&gt; |\n",
       "|---|---|---|---|---|---|---|---|---|---|---|\n",
       "| 1 | pujolal01 | 194 | 47 |  4 | 37 | 0.4029630 | 212.2508 | 0.3288136 | 590 | 200000 |\n",
       "| 2 | mientdo01 | 166 | 39 |  1 | 15 | 0.3865815 | 192.1105 | 0.3057090 | 543 | 215000 |\n",
       "| 3 | pierrju01 | 202 | 26 | 11 |  2 | 0.3781764 | 248.0130 | 0.3273906 | 617 | 215000 |\n",
       "\n"
      ],
      "text/plain": [
       "  playerID  H   X2B X3B HR OBP       SLG      BA        AB  salary\n",
       "1 pujolal01 194 47   4  37 0.4029630 212.2508 0.3288136 590 200000\n",
       "2 mientdo01 166 39   1  15 0.3865815 192.1105 0.3057090 543 215000\n",
       "3 pierrju01 202 26  11   2 0.3781764 248.0130 0.3273906 617 215000"
      ]
     },
     "metadata": {},
     "output_type": "display_data"
    }
   ],
   "source": [
    "# 3 Cheapest Players\n",
    "\n",
    "cheapest.players <- head(arrange(limited_combo_2021, salary), 3)\n",
    "cheapest.players"
   ]
  },
  {
   "cell_type": "code",
   "execution_count": 27,
   "metadata": {},
   "outputs": [
    {
     "data": {
      "text/html": [
       "<table class=\"dataframe\">\n",
       "<caption>A data.frame: 3 × 10</caption>\n",
       "<thead>\n",
       "\t<tr><th></th><th scope=col>playerID</th><th scope=col>H</th><th scope=col>X2B</th><th scope=col>X3B</th><th scope=col>HR</th><th scope=col>OBP</th><th scope=col>SLG</th><th scope=col>BA</th><th scope=col>AB</th><th scope=col>salary</th></tr>\n",
       "\t<tr><th></th><th scope=col>&lt;chr&gt;</th><th scope=col>&lt;int&gt;</th><th scope=col>&lt;int&gt;</th><th scope=col>&lt;int&gt;</th><th scope=col>&lt;int&gt;</th><th scope=col>&lt;dbl&gt;</th><th scope=col>&lt;dbl&gt;</th><th scope=col>&lt;dbl&gt;</th><th scope=col>&lt;int&gt;</th><th scope=col>&lt;int&gt;</th></tr>\n",
       "</thead>\n",
       "<tbody>\n",
       "\t<tr><th scope=row>1</th><td>heltoto01</td><td>197</td><td>54</td><td>2</td><td>49</td><td>0.4316547</td><td>206.3339</td><td>0.3356048</td><td>587</td><td>4950000</td></tr>\n",
       "\t<tr><th scope=row>2</th><td>berkmla01</td><td>191</td><td>55</td><td>5</td><td>34</td><td>0.4302326</td><td>222.2357</td><td>0.3310225</td><td>577</td><td> 305000</td></tr>\n",
       "\t<tr><th scope=row>3</th><td>gonzalu01</td><td>198</td><td>36</td><td>7</td><td>57</td><td>0.4285714</td><td>191.3744</td><td>0.3251232</td><td>609</td><td>4833333</td></tr>\n",
       "</tbody>\n",
       "</table>\n"
      ],
      "text/latex": [
       "A data.frame: 3 × 10\n",
       "\\begin{tabular}{r|llllllllll}\n",
       "  & playerID & H & X2B & X3B & HR & OBP & SLG & BA & AB & salary\\\\\n",
       "  & <chr> & <int> & <int> & <int> & <int> & <dbl> & <dbl> & <dbl> & <int> & <int>\\\\\n",
       "\\hline\n",
       "\t1 & heltoto01 & 197 & 54 & 2 & 49 & 0.4316547 & 206.3339 & 0.3356048 & 587 & 4950000\\\\\n",
       "\t2 & berkmla01 & 191 & 55 & 5 & 34 & 0.4302326 & 222.2357 & 0.3310225 & 577 &  305000\\\\\n",
       "\t3 & gonzalu01 & 198 & 36 & 7 & 57 & 0.4285714 & 191.3744 & 0.3251232 & 609 & 4833333\\\\\n",
       "\\end{tabular}\n"
      ],
      "text/markdown": [
       "\n",
       "A data.frame: 3 × 10\n",
       "\n",
       "| <!--/--> | playerID &lt;chr&gt; | H &lt;int&gt; | X2B &lt;int&gt; | X3B &lt;int&gt; | HR &lt;int&gt; | OBP &lt;dbl&gt; | SLG &lt;dbl&gt; | BA &lt;dbl&gt; | AB &lt;int&gt; | salary &lt;int&gt; |\n",
       "|---|---|---|---|---|---|---|---|---|---|---|\n",
       "| 1 | heltoto01 | 197 | 54 | 2 | 49 | 0.4316547 | 206.3339 | 0.3356048 | 587 | 4950000 |\n",
       "| 2 | berkmla01 | 191 | 55 | 5 | 34 | 0.4302326 | 222.2357 | 0.3310225 | 577 |  305000 |\n",
       "| 3 | gonzalu01 | 198 | 36 | 7 | 57 | 0.4285714 | 191.3744 | 0.3251232 | 609 | 4833333 |\n",
       "\n"
      ],
      "text/plain": [
       "  playerID  H   X2B X3B HR OBP       SLG      BA        AB  salary \n",
       "1 heltoto01 197 54  2   49 0.4316547 206.3339 0.3356048 587 4950000\n",
       "2 berkmla01 191 55  5   34 0.4302326 222.2357 0.3310225 577  305000\n",
       "3 gonzalu01 198 36  7   57 0.4285714 191.3744 0.3251232 609 4833333"
      ]
     },
     "metadata": {},
     "output_type": "display_data"
    }
   ],
   "source": [
    "# 3 Players with the Best On Base Percentage (OBP)\n",
    "\n",
    "best.OBP.players <- head(arrange(limited_combo_2021, desc(OBP)), 3)\n",
    "best.OBP.players"
   ]
  },
  {
   "cell_type": "code",
   "execution_count": 28,
   "metadata": {},
   "outputs": [
    {
     "data": {
      "text/html": [
       "<table class=\"dataframe\">\n",
       "<caption>A data.frame: 3 × 10</caption>\n",
       "<thead>\n",
       "\t<tr><th></th><th scope=col>playerID</th><th scope=col>H</th><th scope=col>X2B</th><th scope=col>X3B</th><th scope=col>HR</th><th scope=col>OBP</th><th scope=col>SLG</th><th scope=col>BA</th><th scope=col>AB</th><th scope=col>salary</th></tr>\n",
       "\t<tr><th></th><th scope=col>&lt;chr&gt;</th><th scope=col>&lt;int&gt;</th><th scope=col>&lt;int&gt;</th><th scope=col>&lt;int&gt;</th><th scope=col>&lt;int&gt;</th><th scope=col>&lt;dbl&gt;</th><th scope=col>&lt;dbl&gt;</th><th scope=col>&lt;dbl&gt;</th><th scope=col>&lt;int&gt;</th><th scope=col>&lt;int&gt;</th></tr>\n",
       "</thead>\n",
       "<tbody>\n",
       "\t<tr><th scope=row>1</th><td>stewash01</td><td>202</td><td>44</td><td>7</td><td>12</td><td>0.3710602</td><td>248.0750</td><td>0.3156250</td><td>640</td><td>2183333</td></tr>\n",
       "\t<tr><th scope=row>2</th><td>aurilri01</td><td>206</td><td>37</td><td>5</td><td>37</td><td>0.3688047</td><td>216.2327</td><td>0.3238994</td><td>636</td><td>3250000</td></tr>\n",
       "\t<tr><th scope=row>3</th><td>boonebr01</td><td>206</td><td>37</td><td>3</td><td>37</td><td>0.3722628</td><td>212.2376</td><td>0.3306581</td><td>623</td><td>3250000</td></tr>\n",
       "</tbody>\n",
       "</table>\n"
      ],
      "text/latex": [
       "A data.frame: 3 × 10\n",
       "\\begin{tabular}{r|llllllllll}\n",
       "  & playerID & H & X2B & X3B & HR & OBP & SLG & BA & AB & salary\\\\\n",
       "  & <chr> & <int> & <int> & <int> & <int> & <dbl> & <dbl> & <dbl> & <int> & <int>\\\\\n",
       "\\hline\n",
       "\t1 & stewash01 & 202 & 44 & 7 & 12 & 0.3710602 & 248.0750 & 0.3156250 & 640 & 2183333\\\\\n",
       "\t2 & aurilri01 & 206 & 37 & 5 & 37 & 0.3688047 & 216.2327 & 0.3238994 & 636 & 3250000\\\\\n",
       "\t3 & boonebr01 & 206 & 37 & 3 & 37 & 0.3722628 & 212.2376 & 0.3306581 & 623 & 3250000\\\\\n",
       "\\end{tabular}\n"
      ],
      "text/markdown": [
       "\n",
       "A data.frame: 3 × 10\n",
       "\n",
       "| <!--/--> | playerID &lt;chr&gt; | H &lt;int&gt; | X2B &lt;int&gt; | X3B &lt;int&gt; | HR &lt;int&gt; | OBP &lt;dbl&gt; | SLG &lt;dbl&gt; | BA &lt;dbl&gt; | AB &lt;int&gt; | salary &lt;int&gt; |\n",
       "|---|---|---|---|---|---|---|---|---|---|---|\n",
       "| 1 | stewash01 | 202 | 44 | 7 | 12 | 0.3710602 | 248.0750 | 0.3156250 | 640 | 2183333 |\n",
       "| 2 | aurilri01 | 206 | 37 | 5 | 37 | 0.3688047 | 216.2327 | 0.3238994 | 636 | 3250000 |\n",
       "| 3 | boonebr01 | 206 | 37 | 3 | 37 | 0.3722628 | 212.2376 | 0.3306581 | 623 | 3250000 |\n",
       "\n"
      ],
      "text/plain": [
       "  playerID  H   X2B X3B HR OBP       SLG      BA        AB  salary \n",
       "1 stewash01 202 44  7   12 0.3710602 248.0750 0.3156250 640 2183333\n",
       "2 aurilri01 206 37  5   37 0.3688047 216.2327 0.3238994 636 3250000\n",
       "3 boonebr01 206 37  3   37 0.3722628 212.2376 0.3306581 623 3250000"
      ]
     },
     "metadata": {},
     "output_type": "display_data"
    }
   ],
   "source": [
    "# 3 Players with the Best At Bats (AB)\n",
    "\n",
    "best.AB.players <- head(arrange(limited_combo_2021, desc(AB)), 3)\n",
    "best.AB.players"
   ]
  },
  {
   "cell_type": "code",
   "execution_count": null,
   "metadata": {},
   "outputs": [],
   "source": []
  }
 ],
 "metadata": {
  "kernelspec": {
   "display_name": "R",
   "language": "R",
   "name": "ir"
  },
  "language_info": {
   "codemirror_mode": "r",
   "file_extension": ".r",
   "mimetype": "text/x-r-source",
   "name": "R",
   "pygments_lexer": "r",
   "version": "4.1.2"
  }
 },
 "nbformat": 4,
 "nbformat_minor": 2
}
